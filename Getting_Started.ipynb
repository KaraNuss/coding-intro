{
  "nbformat": 4,
  "nbformat_minor": 0,
  "metadata": {
    "colab": {
      "provenance": [],
      "authorship_tag": "ABX9TyP/DvevXUx3Ap7aeTGBkNnF",
      "include_colab_link": true
    },
    "kernelspec": {
      "name": "ir",
      "display_name": "R"
    },
    "language_info": {
      "name": "R"
    }
  },
  "cells": [
    {
      "cell_type": "markdown",
      "metadata": {
        "id": "view-in-github",
        "colab_type": "text"
      },
      "source": [
        "<a href=\"https://colab.research.google.com/github/KaraNuss/coding-intro/blob/main/Getting_Started.ipynb\" target=\"_parent\"><img src=\"https://colab.research.google.com/assets/colab-badge.svg\" alt=\"Open In Colab\"/></a>"
      ]
    },
    {
      "cell_type": "markdown",
      "source": [
        "## Part 1: First Steps"
      ],
      "metadata": {
        "id": "cqgAfA-Sto4V"
      }
    },
    {
      "cell_type": "markdown",
      "source": [
        "We will use Google Colab Notebooks to explore how we can use computer coding to analyze data. We will work with the programming language R, which is used extensively by biologists for statistics and data visualizations.\n",
        "\n",
        "Any notebook I share will already be set up for R. If you create your own notebook, you must change this manually. To do so, go to the **Runtime** menu at the top of this screen, select **Change runtime type** and use the dropdown menu to switch from Python 3 to **R**."
      ],
      "metadata": {
        "id": "F5oLXpX_Uno0"
      }
    },
    {
      "cell_type": "markdown",
      "source": [
        "The cell below makes available all of the tools we need. Click anywhere in the cell (the light gray box) and **Run** the cell by clicking the **Play arrow** or by holding down **Control/Enter (PC)** or **Command/Enter (Mac)**.\n",
        "\n",
        "You may get a warning that the Notebook was not authored by Google but by another user (someone with an neiu.edu email address). Click **Run anyway** to continue.\n",
        "\n",
        "Once the cell runs, you will see some information that might not make much sense yet. That's okay! You may also see a section labeled Conflicts with some red x's. This looks scary but it is fine to ignore in this case."
      ],
      "metadata": {
        "id": "Ofd87en9T2sc"
      }
    },
    {
      "cell_type": "code",
      "execution_count": 3,
      "metadata": {
        "id": "OBVlKrC_TsAJ",
        "colab": {
          "base_uri": "https://localhost:8080/"
        },
        "outputId": "7c35c854-ed08-4023-d3c2-8f3b4d728005"
      },
      "outputs": [
        {
          "output_type": "stream",
          "name": "stderr",
          "text": [
            "── \u001b[1mAttaching core tidyverse packages\u001b[22m ──────────────────────── tidyverse 2.0.0 ──\n",
            "\u001b[32m✔\u001b[39m \u001b[34mdplyr    \u001b[39m 1.1.4     \u001b[32m✔\u001b[39m \u001b[34mreadr    \u001b[39m 2.1.5\n",
            "\u001b[32m✔\u001b[39m \u001b[34mforcats  \u001b[39m 1.0.0     \u001b[32m✔\u001b[39m \u001b[34mstringr  \u001b[39m 1.5.1\n",
            "\u001b[32m✔\u001b[39m \u001b[34mggplot2  \u001b[39m 3.5.1     \u001b[32m✔\u001b[39m \u001b[34mtibble   \u001b[39m 3.2.1\n",
            "\u001b[32m✔\u001b[39m \u001b[34mlubridate\u001b[39m 1.9.4     \u001b[32m✔\u001b[39m \u001b[34mtidyr    \u001b[39m 1.3.1\n",
            "\u001b[32m✔\u001b[39m \u001b[34mpurrr    \u001b[39m 1.0.4     \n",
            "── \u001b[1mConflicts\u001b[22m ────────────────────────────────────────── tidyverse_conflicts() ──\n",
            "\u001b[31m✖\u001b[39m \u001b[34mdplyr\u001b[39m::\u001b[32mfilter()\u001b[39m masks \u001b[34mstats\u001b[39m::filter()\n",
            "\u001b[31m✖\u001b[39m \u001b[34mdplyr\u001b[39m::\u001b[32mlag()\u001b[39m    masks \u001b[34mstats\u001b[39m::lag()\n",
            "\u001b[36mℹ\u001b[39m Use the conflicted package (\u001b[3m\u001b[34m<http://conflicted.r-lib.org/>\u001b[39m\u001b[23m) to force all conflicts to become errors\n"
          ]
        }
      ],
      "source": [
        "library(tidyverse)"
      ]
    },
    {
      "cell_type": "markdown",
      "source": [
        "One of the great things about using R (or any other programming language) is tha we can easily save our code in a file to reuse in the future. The Google Colab Notebooks are easy to work with because they save directly into a folder within your Google Drive.\n",
        "\n",
        "To be able to share your completed files with me and receive points, please do the following:\n",
        "\n",
        "\n",
        "1.   In a separate tab, open your Google Drive. You can do this by going to your NEIU email and clicking the symbols of dots in the upper right.\n",
        "2.   You should now see a folder in Drive called **Colab Notebooks**. Click on that.\n",
        "1.   Near the top of your screen, you should see Colab Notebooks with a little triangle next to it. Click that triangle and select **Share** in the drop-down menu and click on **Share** in the sub-menu.\n",
        "2.   In the pop-up box, **enter your instructor's email address** (k-nuss@neiu.edu) and click **Done**.\n",
        "\n",
        "Great. we are all set. Note the the Google Colab notebook saves automatically as you work. Occaionally, you may want to create a copy of an existing notebook so you can use it for a new purpose. To do that, go to the **File** menu in the top left. Selct the option to **Save a copy in Drive**.\n",
        "\n",
        "\n",
        "\n"
      ],
      "metadata": {
        "id": "UYFMXbMK2Yqa"
      }
    },
    {
      "cell_type": "markdown",
      "source": [
        "Okay, let's get started with some coding. Soon, we will use R to do complex calculations for us. For now, **run** each cell below to look at some simple examples."
      ],
      "metadata": {
        "id": "jQqK35285HEK"
      }
    },
    {
      "cell_type": "code",
      "source": [
        "4 * (3 + 2)/2"
      ],
      "metadata": {
        "colab": {
          "base_uri": "https://localhost:8080/",
          "height": 34
        },
        "id": "C5AS1HfY2WPN",
        "outputId": "7712fe69-be68-41a2-9751-d0b14aeb3fe1"
      },
      "execution_count": null,
      "outputs": [
        {
          "output_type": "display_data",
          "data": {
            "text/html": [
              "10"
            ],
            "text/markdown": "10",
            "text/latex": "10",
            "text/plain": [
              "[1] 10"
            ]
          },
          "metadata": {}
        }
      ]
    },
    {
      "cell_type": "code",
      "source": [
        "3 * 2"
      ],
      "metadata": {
        "colab": {
          "base_uri": "https://localhost:8080/",
          "height": 34
        },
        "id": "980_8hCu7zi-",
        "outputId": "66ec0b60-93a2-4e81-956a-d28e6b44084f"
      },
      "execution_count": null,
      "outputs": [
        {
          "output_type": "display_data",
          "data": {
            "text/html": [
              "50"
            ],
            "text/markdown": "50",
            "text/latex": "50",
            "text/plain": [
              "[1] 50"
            ]
          },
          "metadata": {}
        }
      ]
    },
    {
      "cell_type": "code",
      "source": [
        "3 ** 2"
      ],
      "metadata": {
        "colab": {
          "base_uri": "https://localhost:8080/",
          "height": 34
        },
        "id": "PB7zUmUE7zrC",
        "outputId": "aff0d79d-8831-49f6-c2a6-4a5c2abab9be"
      },
      "execution_count": null,
      "outputs": [
        {
          "output_type": "display_data",
          "data": {
            "text/html": [
              "100"
            ],
            "text/markdown": "100",
            "text/latex": "100",
            "text/plain": [
              "[1] 100"
            ]
          },
          "metadata": {}
        }
      ]
    },
    {
      "cell_type": "code",
      "source": [
        "3 ** 3"
      ],
      "metadata": {
        "colab": {
          "base_uri": "https://localhost:8080/",
          "height": 34
        },
        "id": "oNHunIEb6OB2",
        "outputId": "4708cb52-343f-4177-d0f0-cd18eff411f6"
      },
      "execution_count": null,
      "outputs": [
        {
          "output_type": "display_data",
          "data": {
            "text/html": [
              "27"
            ],
            "text/markdown": "27",
            "text/latex": "27",
            "text/plain": [
              "[1] 27"
            ]
          },
          "metadata": {}
        }
      ]
    },
    {
      "cell_type": "markdown",
      "source": [
        "### Question 1\n",
        "Look at the cells above. What does R do when you use a single asterisk symbol? What happens when you use **?"
      ],
      "metadata": {
        "id": "Mrlw0iiw8KdN"
      }
    },
    {
      "cell_type": "markdown",
      "source": [
        "*Replace this text with your answer.*"
      ],
      "metadata": {
        "id": "qBwMG1wVIVkH"
      }
    },
    {
      "cell_type": "markdown",
      "source": [
        "**A few of other things to note about R:**\n",
        "\n",
        "\n",
        "1.   It follows the standard order of operations (PEDMAS) when performing calculations.\n",
        "2.   We can assign values to a name by using an arrow <- (less then followed by a dash). A name has to start with a letter and cannot have spaces.\n",
        "1.   We can also use operators to compare values.\n",
        "\n",
        "Run the cells below to explore.\n",
        "\n",
        "\n",
        "\n"
      ],
      "metadata": {
        "id": "Fxt4w2W8FYL4"
      }
    },
    {
      "cell_type": "code",
      "source": [
        "a <- 5"
      ],
      "metadata": {
        "id": "MY86yhq8HOsG"
      },
      "execution_count": null,
      "outputs": []
    },
    {
      "cell_type": "code",
      "source": [
        "b <- 10"
      ],
      "metadata": {
        "id": "eEA233FBHOvR"
      },
      "execution_count": null,
      "outputs": []
    },
    {
      "cell_type": "code",
      "source": [
        "b > a"
      ],
      "metadata": {
        "colab": {
          "base_uri": "https://localhost:8080/",
          "height": 34
        },
        "id": "cz56DtNoHV9A",
        "outputId": "b7da31ef-4087-4827-d166-1dfac9ffacc1"
      },
      "execution_count": null,
      "outputs": [
        {
          "output_type": "display_data",
          "data": {
            "text/html": [
              "TRUE"
            ],
            "text/markdown": "TRUE",
            "text/latex": "TRUE",
            "text/plain": [
              "[1] TRUE"
            ]
          },
          "metadata": {}
        }
      ]
    },
    {
      "cell_type": "markdown",
      "source": [
        "answer = a + b"
      ],
      "metadata": {
        "id": "DTjtYQJ5HcKa"
      }
    },
    {
      "cell_type": "markdown",
      "source": [
        "### Question 2: What should answer equal?\n",
        "\n",
        "You can double-check yourself by creating a new code cell and typing answer so that R **returns** the value assigned to this name."
      ],
      "metadata": {
        "id": "zZEYQbqSHg4R"
      }
    },
    {
      "cell_type": "markdown",
      "source": [
        "*Replace this text with the value of answer.*"
      ],
      "metadata": {
        "id": "kYfgGI1JIMg-"
      }
    },
    {
      "cell_type": "markdown",
      "source": [
        "## Part 2: Working with Data"
      ],
      "metadata": {
        "id": "P8pXdgbwD9P0"
      }
    },
    {
      "cell_type": "markdown",
      "source": [
        "We want to import some data that we can begin to analyze. The code below will access a data file I posted to a website. Soon, you will learn how to upload your own data files from Excel or Google Sheets. Run the cell below. Note that you won't see any **output** once the cell has run, but you will see a number in the brackets on the left side."
      ],
      "metadata": {
        "id": "xIGZX2aMEIUp"
      }
    },
    {
      "cell_type": "code",
      "source": [
        "birds <- read.csv(url(\"https://raw.githubusercontent.com/KaraNuss/coding-intro/refs/heads/main/bird_observations.csv\"))"
      ],
      "metadata": {
        "id": "Zit6mcHQreu1"
      },
      "execution_count": null,
      "outputs": []
    },
    {
      "cell_type": "markdown",
      "source": [
        "In the cell above, we brought in our dataset and saved it under the name birds. To do that, we used the assignment arrow you saw above. Notice that we can assign individual values or whole datasets to a name. You can now **add** a new cell for Code, by clicking on **+ Code** at the top left. Type birds (make sure not to capitalize) and **run** the cell to see our dataset."
      ],
      "metadata": {
        "id": "2tBfyXlmWRB2"
      }
    },
    {
      "cell_type": "code",
      "source": [
        "birds2 <- read.csv(url(\"https://raw.githubusercontent.com/KaraNuss/coding-intro/refs/heads/main/BirdFeederData.csv\"))"
      ],
      "metadata": {
        "id": "Or1ssM6dzPn_"
      },
      "execution_count": 9,
      "outputs": []
    },
    {
      "cell_type": "code",
      "source": [
        "# Make sure to cut out this  line in the student version.\n",
        "birds2"
      ],
      "metadata": {
        "id": "KahTamPOaSxl",
        "colab": {
          "base_uri": "https://localhost:8080/",
          "height": 1000
        },
        "outputId": "2bb129e5-3e03-43a2-9b7f-6fa431240d03"
      },
      "execution_count": 10,
      "outputs": [
        {
          "output_type": "display_data",
          "data": {
            "text/html": [
              "<table class=\"dataframe\">\n",
              "<caption>A data.frame: 32 × 5</caption>\n",
              "<thead>\n",
              "\t<tr><th scope=col>Observation</th><th scope=col>Day</th><th scope=col>Time</th><th scope=col>Species</th><th scope=col>Count</th></tr>\n",
              "\t<tr><th scope=col>&lt;int&gt;</th><th scope=col>&lt;int&gt;</th><th scope=col>&lt;chr&gt;</th><th scope=col>&lt;chr&gt;</th><th scope=col>&lt;int&gt;</th></tr>\n",
              "</thead>\n",
              "<tbody>\n",
              "\t<tr><td>1</td><td>1</td><td>am</td><td>house finch  </td><td>11</td></tr>\n",
              "\t<tr><td>1</td><td>1</td><td>am</td><td>chickadee    </td><td> 2</td></tr>\n",
              "\t<tr><td>1</td><td>1</td><td>am</td><td>house sparrow</td><td>13</td></tr>\n",
              "\t<tr><td>1</td><td>1</td><td>am</td><td>cardinal     </td><td> 0</td></tr>\n",
              "\t<tr><td>2</td><td>1</td><td>pm</td><td>house finch  </td><td> 6</td></tr>\n",
              "\t<tr><td>2</td><td>1</td><td>pm</td><td>chickadee    </td><td> 1</td></tr>\n",
              "\t<tr><td>2</td><td>1</td><td>pm</td><td>house sparrow</td><td> 8</td></tr>\n",
              "\t<tr><td>2</td><td>1</td><td>pm</td><td>cardinal     </td><td> 0</td></tr>\n",
              "\t<tr><td>3</td><td>2</td><td>am</td><td>house finch  </td><td>18</td></tr>\n",
              "\t<tr><td>3</td><td>2</td><td>am</td><td>chickadee    </td><td> 7</td></tr>\n",
              "\t<tr><td>3</td><td>2</td><td>am</td><td>house sparrow</td><td>16</td></tr>\n",
              "\t<tr><td>3</td><td>2</td><td>am</td><td>cardinal     </td><td> 1</td></tr>\n",
              "\t<tr><td>4</td><td>2</td><td>pm</td><td>house finch  </td><td> 7</td></tr>\n",
              "\t<tr><td>4</td><td>2</td><td>pm</td><td>chickadee    </td><td> 6</td></tr>\n",
              "\t<tr><td>4</td><td>2</td><td>pm</td><td>house sparrow</td><td>12</td></tr>\n",
              "\t<tr><td>4</td><td>2</td><td>pm</td><td>cardinal     </td><td> 1</td></tr>\n",
              "\t<tr><td>5</td><td>3</td><td>am</td><td>house finch  </td><td>19</td></tr>\n",
              "\t<tr><td>5</td><td>3</td><td>am</td><td>chickadee    </td><td> 8</td></tr>\n",
              "\t<tr><td>5</td><td>3</td><td>am</td><td>house sparrow</td><td>16</td></tr>\n",
              "\t<tr><td>5</td><td>3</td><td>am</td><td>cardinal     </td><td> 1</td></tr>\n",
              "\t<tr><td>6</td><td>3</td><td>pm</td><td>house finch  </td><td> 4</td></tr>\n",
              "\t<tr><td>6</td><td>3</td><td>pm</td><td>chickadee    </td><td> 0</td></tr>\n",
              "\t<tr><td>6</td><td>3</td><td>pm</td><td>house sparrow</td><td> 2</td></tr>\n",
              "\t<tr><td>6</td><td>3</td><td>pm</td><td>cardinal     </td><td> 0</td></tr>\n",
              "\t<tr><td>7</td><td>4</td><td>am</td><td>house finch  </td><td>16</td></tr>\n",
              "\t<tr><td>7</td><td>4</td><td>am</td><td>chickadee    </td><td> 9</td></tr>\n",
              "\t<tr><td>7</td><td>4</td><td>am</td><td>house sparrow</td><td>14</td></tr>\n",
              "\t<tr><td>7</td><td>4</td><td>am</td><td>cardinal     </td><td> 0</td></tr>\n",
              "\t<tr><td>8</td><td>4</td><td>pm</td><td>house finch  </td><td>12</td></tr>\n",
              "\t<tr><td>8</td><td>4</td><td>pm</td><td>chickadee    </td><td> 7</td></tr>\n",
              "\t<tr><td>8</td><td>4</td><td>pm</td><td>house sparrow</td><td> 9</td></tr>\n",
              "\t<tr><td>8</td><td>4</td><td>pm</td><td>cardinal     </td><td> 0</td></tr>\n",
              "</tbody>\n",
              "</table>\n"
            ],
            "text/markdown": "\nA data.frame: 32 × 5\n\n| Observation &lt;int&gt; | Day &lt;int&gt; | Time &lt;chr&gt; | Species &lt;chr&gt; | Count &lt;int&gt; |\n|---|---|---|---|---|\n| 1 | 1 | am | house finch   | 11 |\n| 1 | 1 | am | chickadee     |  2 |\n| 1 | 1 | am | house sparrow | 13 |\n| 1 | 1 | am | cardinal      |  0 |\n| 2 | 1 | pm | house finch   |  6 |\n| 2 | 1 | pm | chickadee     |  1 |\n| 2 | 1 | pm | house sparrow |  8 |\n| 2 | 1 | pm | cardinal      |  0 |\n| 3 | 2 | am | house finch   | 18 |\n| 3 | 2 | am | chickadee     |  7 |\n| 3 | 2 | am | house sparrow | 16 |\n| 3 | 2 | am | cardinal      |  1 |\n| 4 | 2 | pm | house finch   |  7 |\n| 4 | 2 | pm | chickadee     |  6 |\n| 4 | 2 | pm | house sparrow | 12 |\n| 4 | 2 | pm | cardinal      |  1 |\n| 5 | 3 | am | house finch   | 19 |\n| 5 | 3 | am | chickadee     |  8 |\n| 5 | 3 | am | house sparrow | 16 |\n| 5 | 3 | am | cardinal      |  1 |\n| 6 | 3 | pm | house finch   |  4 |\n| 6 | 3 | pm | chickadee     |  0 |\n| 6 | 3 | pm | house sparrow |  2 |\n| 6 | 3 | pm | cardinal      |  0 |\n| 7 | 4 | am | house finch   | 16 |\n| 7 | 4 | am | chickadee     |  9 |\n| 7 | 4 | am | house sparrow | 14 |\n| 7 | 4 | am | cardinal      |  0 |\n| 8 | 4 | pm | house finch   | 12 |\n| 8 | 4 | pm | chickadee     |  7 |\n| 8 | 4 | pm | house sparrow |  9 |\n| 8 | 4 | pm | cardinal      |  0 |\n\n",
            "text/latex": "A data.frame: 32 × 5\n\\begin{tabular}{lllll}\n Observation & Day & Time & Species & Count\\\\\n <int> & <int> & <chr> & <chr> & <int>\\\\\n\\hline\n\t 1 & 1 & am & house finch   & 11\\\\\n\t 1 & 1 & am & chickadee     &  2\\\\\n\t 1 & 1 & am & house sparrow & 13\\\\\n\t 1 & 1 & am & cardinal      &  0\\\\\n\t 2 & 1 & pm & house finch   &  6\\\\\n\t 2 & 1 & pm & chickadee     &  1\\\\\n\t 2 & 1 & pm & house sparrow &  8\\\\\n\t 2 & 1 & pm & cardinal      &  0\\\\\n\t 3 & 2 & am & house finch   & 18\\\\\n\t 3 & 2 & am & chickadee     &  7\\\\\n\t 3 & 2 & am & house sparrow & 16\\\\\n\t 3 & 2 & am & cardinal      &  1\\\\\n\t 4 & 2 & pm & house finch   &  7\\\\\n\t 4 & 2 & pm & chickadee     &  6\\\\\n\t 4 & 2 & pm & house sparrow & 12\\\\\n\t 4 & 2 & pm & cardinal      &  1\\\\\n\t 5 & 3 & am & house finch   & 19\\\\\n\t 5 & 3 & am & chickadee     &  8\\\\\n\t 5 & 3 & am & house sparrow & 16\\\\\n\t 5 & 3 & am & cardinal      &  1\\\\\n\t 6 & 3 & pm & house finch   &  4\\\\\n\t 6 & 3 & pm & chickadee     &  0\\\\\n\t 6 & 3 & pm & house sparrow &  2\\\\\n\t 6 & 3 & pm & cardinal      &  0\\\\\n\t 7 & 4 & am & house finch   & 16\\\\\n\t 7 & 4 & am & chickadee     &  9\\\\\n\t 7 & 4 & am & house sparrow & 14\\\\\n\t 7 & 4 & am & cardinal      &  0\\\\\n\t 8 & 4 & pm & house finch   & 12\\\\\n\t 8 & 4 & pm & chickadee     &  7\\\\\n\t 8 & 4 & pm & house sparrow &  9\\\\\n\t 8 & 4 & pm & cardinal      &  0\\\\\n\\end{tabular}\n",
            "text/plain": [
              "   Observation Day Time Species       Count\n",
              "1  1           1   am   house finch   11   \n",
              "2  1           1   am   chickadee      2   \n",
              "3  1           1   am   house sparrow 13   \n",
              "4  1           1   am   cardinal       0   \n",
              "5  2           1   pm   house finch    6   \n",
              "6  2           1   pm   chickadee      1   \n",
              "7  2           1   pm   house sparrow  8   \n",
              "8  2           1   pm   cardinal       0   \n",
              "9  3           2   am   house finch   18   \n",
              "10 3           2   am   chickadee      7   \n",
              "11 3           2   am   house sparrow 16   \n",
              "12 3           2   am   cardinal       1   \n",
              "13 4           2   pm   house finch    7   \n",
              "14 4           2   pm   chickadee      6   \n",
              "15 4           2   pm   house sparrow 12   \n",
              "16 4           2   pm   cardinal       1   \n",
              "17 5           3   am   house finch   19   \n",
              "18 5           3   am   chickadee      8   \n",
              "19 5           3   am   house sparrow 16   \n",
              "20 5           3   am   cardinal       1   \n",
              "21 6           3   pm   house finch    4   \n",
              "22 6           3   pm   chickadee      0   \n",
              "23 6           3   pm   house sparrow  2   \n",
              "24 6           3   pm   cardinal       0   \n",
              "25 7           4   am   house finch   16   \n",
              "26 7           4   am   chickadee      9   \n",
              "27 7           4   am   house sparrow 14   \n",
              "28 7           4   am   cardinal       0   \n",
              "29 8           4   pm   house finch   12   \n",
              "30 8           4   pm   chickadee      7   \n",
              "31 8           4   pm   house sparrow  9   \n",
              "32 8           4   pm   cardinal       0   "
            ]
          },
          "metadata": {}
        }
      ]
    },
    {
      "cell_type": "markdown",
      "source": [
        "Wow, that's cool! This example dataset is pretty simple and small. Often we will have large and complex datasets where we can'st see everything at once. Luckily, there are some great tools to give us an overview of our data."
      ],
      "metadata": {
        "id": "wrA-mPMXW_xX"
      }
    },
    {
      "cell_type": "markdown",
      "source": [
        "### Question 3\n",
        "Run the cell below and then describe what **glimpse** does. What information does it give us?"
      ],
      "metadata": {
        "id": "lfeKjzWGsSIh"
      }
    },
    {
      "cell_type": "markdown",
      "source": [
        "*Replace this text with your answer.*"
      ],
      "metadata": {
        "id": "XHm7KFthIxYF"
      }
    },
    {
      "cell_type": "code",
      "source": [
        "glimpse(birds)"
      ],
      "metadata": {
        "id": "AzaQTY1sWu9H",
        "colab": {
          "base_uri": "https://localhost:8080/"
        },
        "outputId": "81c1989c-03d3-44ba-e87c-cb32a9dfb2e3"
      },
      "execution_count": null,
      "outputs": [
        {
          "output_type": "stream",
          "name": "stdout",
          "text": [
            "Rows: 10\n",
            "Columns: 4\n",
            "$ Day         \u001b[3m\u001b[90m<int>\u001b[39m\u001b[23m 1, 1, 2, 2, 3, 3, 4, 4, 5, 5\n",
            "$ Time        \u001b[3m\u001b[90m<chr>\u001b[39m\u001b[23m \"morning\", \"afternoon\", \"morning\", \"afternoon\", \"morning\",…\n",
            "$ Woodpeckers \u001b[3m\u001b[90m<int>\u001b[39m\u001b[23m 6, 3, 8, 5, 7, 0, 4, 6, 9, 5\n",
            "$ BlueJays    \u001b[3m\u001b[90m<int>\u001b[39m\u001b[23m 1, 2, 4, 6, 3, 7, 2, 8, 0, 2\n"
          ]
        }
      ]
    },
    {
      "cell_type": "markdown",
      "source": [
        "## Descriptive Statistics\n",
        "Possibly move this to a separate notebook.\n",
        "\n",
        "Don't want to overload them by using piping yet, but I do like the mutate part."
      ],
      "metadata": {
        "id": "1zfemw3It8aK"
      }
    },
    {
      "cell_type": "code",
      "source": [
        "birds <- mutate(birds, totalBirds = Woodpeckers + BlueJays)\n",
        "# adds a column totalling the two groups of birds\n",
        "# note that we rename to \"save\" this new version"
      ],
      "metadata": {
        "id": "KDy3Yvzo0H7M"
      },
      "execution_count": null,
      "outputs": []
    },
    {
      "cell_type": "code",
      "source": [
        "birds"
      ],
      "metadata": {
        "id": "cD_LPnB-0rFl",
        "colab": {
          "base_uri": "https://localhost:8080/",
          "height": 412
        },
        "outputId": "7a92accf-f2b8-4676-bc15-cd56a8623f70"
      },
      "execution_count": null,
      "outputs": [
        {
          "output_type": "display_data",
          "data": {
            "text/html": [
              "<table class=\"dataframe\">\n",
              "<caption>A data.frame: 10 × 5</caption>\n",
              "<thead>\n",
              "\t<tr><th scope=col>Day</th><th scope=col>Time</th><th scope=col>Woodpeckers</th><th scope=col>BlueJays</th><th scope=col>totalBirds</th></tr>\n",
              "\t<tr><th scope=col>&lt;int&gt;</th><th scope=col>&lt;chr&gt;</th><th scope=col>&lt;int&gt;</th><th scope=col>&lt;int&gt;</th><th scope=col>&lt;int&gt;</th></tr>\n",
              "</thead>\n",
              "<tbody>\n",
              "\t<tr><td>1</td><td>morning  </td><td>6</td><td>1</td><td> 7</td></tr>\n",
              "\t<tr><td>1</td><td>afternoon</td><td>3</td><td>2</td><td> 5</td></tr>\n",
              "\t<tr><td>2</td><td>morning  </td><td>8</td><td>4</td><td>12</td></tr>\n",
              "\t<tr><td>2</td><td>afternoon</td><td>5</td><td>6</td><td>11</td></tr>\n",
              "\t<tr><td>3</td><td>morning  </td><td>7</td><td>3</td><td>10</td></tr>\n",
              "\t<tr><td>3</td><td>afternoon</td><td>0</td><td>7</td><td> 7</td></tr>\n",
              "\t<tr><td>4</td><td>morning  </td><td>4</td><td>2</td><td> 6</td></tr>\n",
              "\t<tr><td>4</td><td>afternoon</td><td>6</td><td>8</td><td>14</td></tr>\n",
              "\t<tr><td>5</td><td>morning  </td><td>9</td><td>0</td><td> 9</td></tr>\n",
              "\t<tr><td>5</td><td>afternoon</td><td>5</td><td>2</td><td> 7</td></tr>\n",
              "</tbody>\n",
              "</table>\n"
            ],
            "text/markdown": "\nA data.frame: 10 × 5\n\n| Day &lt;int&gt; | Time &lt;chr&gt; | Woodpeckers &lt;int&gt; | BlueJays &lt;int&gt; | totalBirds &lt;int&gt; |\n|---|---|---|---|---|\n| 1 | morning   | 6 | 1 |  7 |\n| 1 | afternoon | 3 | 2 |  5 |\n| 2 | morning   | 8 | 4 | 12 |\n| 2 | afternoon | 5 | 6 | 11 |\n| 3 | morning   | 7 | 3 | 10 |\n| 3 | afternoon | 0 | 7 |  7 |\n| 4 | morning   | 4 | 2 |  6 |\n| 4 | afternoon | 6 | 8 | 14 |\n| 5 | morning   | 9 | 0 |  9 |\n| 5 | afternoon | 5 | 2 |  7 |\n\n",
            "text/latex": "A data.frame: 10 × 5\n\\begin{tabular}{lllll}\n Day & Time & Woodpeckers & BlueJays & totalBirds\\\\\n <int> & <chr> & <int> & <int> & <int>\\\\\n\\hline\n\t 1 & morning   & 6 & 1 &  7\\\\\n\t 1 & afternoon & 3 & 2 &  5\\\\\n\t 2 & morning   & 8 & 4 & 12\\\\\n\t 2 & afternoon & 5 & 6 & 11\\\\\n\t 3 & morning   & 7 & 3 & 10\\\\\n\t 3 & afternoon & 0 & 7 &  7\\\\\n\t 4 & morning   & 4 & 2 &  6\\\\\n\t 4 & afternoon & 6 & 8 & 14\\\\\n\t 5 & morning   & 9 & 0 &  9\\\\\n\t 5 & afternoon & 5 & 2 &  7\\\\\n\\end{tabular}\n",
            "text/plain": [
              "   Day Time      Woodpeckers BlueJays totalBirds\n",
              "1  1   morning   6           1         7        \n",
              "2  1   afternoon 3           2         5        \n",
              "3  2   morning   8           4        12        \n",
              "4  2   afternoon 5           6        11        \n",
              "5  3   morning   7           3        10        \n",
              "6  3   afternoon 0           7         7        \n",
              "7  4   morning   4           2         6        \n",
              "8  4   afternoon 6           8        14        \n",
              "9  5   morning   9           0         9        \n",
              "10 5   afternoon 5           2         7        "
            ]
          },
          "metadata": {}
        }
      ]
    },
    {
      "cell_type": "markdown",
      "source": [
        "## Part 3: Uploading Your Own Data\n"
      ],
      "metadata": {
        "id": "6v9uaS-ZLjOG"
      }
    },
    {
      "cell_type": "markdown",
      "source": [
        "This notebook was created by Dr. Kara Nuss at Northeastern Illinois University with support from A**dd Funding Source**. Many of the examples are based on material from the book Getting Started with R: An Introduction for Biologists, 2nd edition, by Bekerman, Childs, and Petchey.\n",
        "\n",
        "Version 1 - Spring 2025"
      ],
      "metadata": {
        "id": "iTSUYL7V6z25"
      }
    }
  ]
}