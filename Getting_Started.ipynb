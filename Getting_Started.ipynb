{
  "nbformat": 4,
  "nbformat_minor": 0,
  "metadata": {
    "colab": {
      "provenance": [],
      "authorship_tag": "ABX9TyPvpnXwURqKHWsUdXKmKvf4",
      "include_colab_link": true
    },
    "kernelspec": {
      "name": "ir",
      "display_name": "R"
    },
    "language_info": {
      "name": "R"
    }
  },
  "cells": [
    {
      "cell_type": "markdown",
      "metadata": {
        "id": "view-in-github",
        "colab_type": "text"
      },
      "source": [
        "<a href=\"https://colab.research.google.com/github/KaraNuss/coding-intro/blob/main/Getting_Started.ipynb\" target=\"_parent\"><img src=\"https://colab.research.google.com/assets/colab-badge.svg\" alt=\"Open In Colab\"/></a>"
      ]
    },
    {
      "cell_type": "markdown",
      "source": [
        "# Part 1: First Steps"
      ],
      "metadata": {
        "id": "cqgAfA-Sto4V"
      }
    },
    {
      "cell_type": "markdown",
      "source": [
        "We will use Google Colab Notebooks to explore how we can use computer coding to analyze data. We will work with the programming language R, which is used extensively by biologists for statistics and data visualizations.\n",
        "\n",
        "Any notebook I share will already be set up for R. If you create your own notebook, you must change this manually. To do so, go to the **Runtime** menu at the top of this screen, select **Change runtime type** and use the dropdown menu to switch from Python 3 to **R**.\n",
        "\n",
        "The cell below makes available all of the tools we need. Click anywhere in the cell (the light gray box) and **Run** the cell by clicking the **Play arrow** or by holding down **Control/Enter (PC)** or **Command/Enter (Mac)**.\n",
        "\n",
        "You may get a warning that the Notebook was not authored by Google but by another user (someone with an neiu.edu email address). Click **Run anyway** to continue."
      ],
      "metadata": {
        "id": "F5oLXpX_Uno0"
      }
    },
    {
      "cell_type": "code",
      "execution_count": null,
      "metadata": {
        "id": "OBVlKrC_TsAJ"
      },
      "outputs": [],
      "source": [
        "library(ggplot2)\n",
        "library(tidyverse)"
      ]
    },
    {
      "cell_type": "markdown",
      "source": [
        "Once the cell runs, you will see some information that might not make much sense yet. That's okay! You may also see a section labeled Conflicts with some red x's. This looks scary but it is fine to ignore in this case.\n",
        "\n",
        "If you are creating your own Google Colab notebook, you will want to copy this cell and run it first. The library command is a way to add additional tools to R's basic capabilities. You may learn about other packages (like ggplot2 and tidyverse) that you will want to use in the future."
      ],
      "metadata": {
        "id": "HbDPvk6a8Sst"
      }
    },
    {
      "cell_type": "markdown",
      "source": [
        "## Saving Your Work\n",
        "One of the great things about using R (or any other programming language) is tha we can easily save our code in a file to reuse in the future. The Google Colab Notebooks are easy to work with because they save directly into a folder within your Google Drive.\n",
        "\n",
        "To be able to share your completed files with me and receive points, please do the following:\n",
        "\n",
        "\n",
        "1.   Near the top under Getting Started.ipynb, click **File** and scroll down to select Save a Copy in Drive. This will allow you to make and save changes to this notebook.\n",
        "1.   In a separate tab, open your Google Drive. You can do this by going to your NEIU email and clicking the symbol of dots in a grid in the upper right.\n",
        "2.   You should now see a folder in Drive called **Colab Notebooks**. Click on that.\n",
        "1.   Near the top of your screen, you should see Colab Notebooks with a little triangle next to it. Click that triangle and select **Share** in the drop-down menu and click on **Share** in the sub-menu.\n",
        "2.   In the pop-up box, **enter your instructor's email address** (k-nuss@neiu.edu) and click **Done**.\n",
        "\n",
        "Great. we are all set. The Google Colab notebook saves automatically as you work. Occaionally, you may want to create a copy of an existing notebook so you can use it for a new purpose. To do that, go to the **File** menu in the top left. Selct the option to **Save a copy in Drive**.\n",
        "\n",
        "\n",
        "\n"
      ],
      "metadata": {
        "id": "UYFMXbMK2Yqa"
      }
    },
    {
      "cell_type": "markdown",
      "source": [
        "Okay, let's get started with some coding. Soon, we will use R to do complex calculations for us. For now, **run** each cell below to look at some simple examples."
      ],
      "metadata": {
        "id": "jQqK35285HEK"
      }
    },
    {
      "cell_type": "code",
      "source": [
        "4 * (3 + 2)/2"
      ],
      "metadata": {
        "colab": {
          "base_uri": "https://localhost:8080/",
          "height": 34
        },
        "id": "C5AS1HfY2WPN",
        "outputId": "a4512d35-2bd8-42d8-f8af-33c45241573a"
      },
      "execution_count": null,
      "outputs": [
        {
          "output_type": "display_data",
          "data": {
            "text/html": [
              "10"
            ],
            "text/markdown": "10",
            "text/latex": "10",
            "text/plain": [
              "[1] 10"
            ]
          },
          "metadata": {}
        }
      ]
    },
    {
      "cell_type": "code",
      "source": [
        "3 * 2"
      ],
      "metadata": {
        "colab": {
          "base_uri": "https://localhost:8080/",
          "height": 34
        },
        "id": "980_8hCu7zi-",
        "outputId": "dcf11c5f-d6a9-4a79-f0d9-f56adeec6d6d"
      },
      "execution_count": null,
      "outputs": [
        {
          "output_type": "display_data",
          "data": {
            "text/html": [
              "6"
            ],
            "text/markdown": "6",
            "text/latex": "6",
            "text/plain": [
              "[1] 6"
            ]
          },
          "metadata": {}
        }
      ]
    },
    {
      "cell_type": "code",
      "source": [
        "3 ** 2"
      ],
      "metadata": {
        "colab": {
          "base_uri": "https://localhost:8080/",
          "height": 34
        },
        "id": "PB7zUmUE7zrC",
        "outputId": "f0a911bb-9abb-4644-8b71-e471a5e8641e"
      },
      "execution_count": null,
      "outputs": [
        {
          "output_type": "display_data",
          "data": {
            "text/html": [
              "9"
            ],
            "text/markdown": "9",
            "text/latex": "9",
            "text/plain": [
              "[1] 9"
            ]
          },
          "metadata": {}
        }
      ]
    },
    {
      "cell_type": "code",
      "source": [
        "3 ** 3"
      ],
      "metadata": {
        "colab": {
          "base_uri": "https://localhost:8080/",
          "height": 34
        },
        "id": "oNHunIEb6OB2",
        "outputId": "ff6f5772-87b9-4038-cfd4-83f3506fc52c"
      },
      "execution_count": null,
      "outputs": [
        {
          "output_type": "display_data",
          "data": {
            "text/html": [
              "27"
            ],
            "text/markdown": "27",
            "text/latex": "27",
            "text/plain": [
              "[1] 27"
            ]
          },
          "metadata": {}
        }
      ]
    },
    {
      "cell_type": "markdown",
      "source": [
        "## Answering Questions\n",
        "Throughout this notebook, there will be questions for you to answer. You can quickly navigate to different questions clicking the icon in the top right to bring up the Table of Contents. **Don't skip ahead though or you will miss important information!** This is a good option if you need to move back to a previous question or want to double-check that you've completed all questions in a notebook.\n",
        "\n",
        "When you see italicized text, you can double-click it and a **Text cell** opens. Higlight the text and delete it, then type in your answer. Give it a try for Question 1 below.\n",
        "\n"
      ],
      "metadata": {
        "id": "w9NzSCCaOPbH"
      }
    },
    {
      "cell_type": "markdown",
      "source": [
        "### Question 1\n",
        "\n",
        "Look at the code cells above. What does R do when you use a single asterisk symbol? What happens when you use **?"
      ],
      "metadata": {
        "id": "Mrlw0iiw8KdN"
      }
    },
    {
      "cell_type": "markdown",
      "source": [
        "*Replace this text with your answer.*"
      ],
      "metadata": {
        "id": "qBwMG1wVIVkH"
      }
    },
    {
      "cell_type": "markdown",
      "source": [
        "**A few of other things to note about working with R:**\n",
        "\n",
        "*   It follows the standard order of operations (PEDMAS) when performing calculations.\n",
        "*   We can assign values to a name by using an arrow <- (the symbol for less than followed by a dash). A name has to start with a letter and cannot have spaces.\n",
        "*   We can also use operators to compare values.\n",
        "\n",
        "\n",
        "Run the cells below to explore.\n",
        "\n",
        "\n",
        "\n"
      ],
      "metadata": {
        "id": "Fxt4w2W8FYL4"
      }
    },
    {
      "cell_type": "code",
      "source": [
        "a <- 5"
      ],
      "metadata": {
        "id": "MY86yhq8HOsG"
      },
      "execution_count": null,
      "outputs": []
    },
    {
      "cell_type": "code",
      "source": [
        "b <- 10"
      ],
      "metadata": {
        "id": "eEA233FBHOvR"
      },
      "execution_count": null,
      "outputs": []
    },
    {
      "cell_type": "code",
      "source": [
        "b > a"
      ],
      "metadata": {
        "colab": {
          "base_uri": "https://localhost:8080/",
          "height": 34
        },
        "id": "cz56DtNoHV9A",
        "outputId": "3bb30d05-047a-4dc2-bf97-00deff3c0b40"
      },
      "execution_count": null,
      "outputs": [
        {
          "output_type": "display_data",
          "data": {
            "text/html": [
              "TRUE"
            ],
            "text/markdown": "TRUE",
            "text/latex": "TRUE",
            "text/plain": [
              "[1] TRUE"
            ]
          },
          "metadata": {}
        }
      ]
    },
    {
      "cell_type": "code",
      "source": [
        "answer <- a + b"
      ],
      "metadata": {
        "id": "ATv4iQ8S-qNa"
      },
      "execution_count": null,
      "outputs": []
    },
    {
      "cell_type": "markdown",
      "source": [
        "### Question 2\n",
        "What should answer equal?"
      ],
      "metadata": {
        "id": "zZEYQbqSHg4R"
      }
    },
    {
      "cell_type": "markdown",
      "source": [
        "*Replace this text with the value of answer.*"
      ],
      "metadata": {
        "id": "kYfgGI1JIMg-"
      }
    },
    {
      "cell_type": "markdown",
      "source": [
        "You can double-check yourself by creating a new code cell and typing answer so that R **returns** the value assigned to this name. Notice that in the cell above, we only assigned the value of answer. R stores the value but won't tell us what it is unless we ask."
      ],
      "metadata": {
        "id": "JwG5U2Uc_K8W"
      }
    },
    {
      "cell_type": "markdown",
      "source": [
        "# Part 2: Working with Data"
      ],
      "metadata": {
        "id": "P8pXdgbwD9P0"
      }
    },
    {
      "cell_type": "markdown",
      "source": [
        "We want to import some data that we can begin to analyze. The code below will access a data file I posted to a website. Soon, you will learn how to upload your own data files from Excel or Google Sheets. Run the cell below. Note that you won't see any **output** once the cell has run, but you will see a number in the brackets on the left side."
      ],
      "metadata": {
        "id": "xIGZX2aMEIUp"
      }
    },
    {
      "cell_type": "code",
      "source": [
        "birds <- read.csv(url(\"https://raw.githubusercontent.com/KaraNuss/coding-intro/refs/heads/main/BirdFeederData.csv\"))"
      ],
      "metadata": {
        "id": "Or1ssM6dzPn_"
      },
      "execution_count": null,
      "outputs": []
    },
    {
      "cell_type": "markdown",
      "source": [
        "In the cell above, we brought in our dataset and saved it under the name birds. To do that, we used the assignment arrow you saw above. Notice that we can assign individual values or whole datasets to a name. You can now **add** a new cell for Code, by clicking on **+ Code** at the top left. Type birds (make sure not to capitalize) and **run** the cell to see our dataset."
      ],
      "metadata": {
        "id": "2tBfyXlmWRB2"
      }
    },
    {
      "cell_type": "code",
      "source": [
        "# Make sure to cut out this  line in the student version.\n",
        "birds"
      ],
      "metadata": {
        "id": "KahTamPOaSxl",
        "colab": {
          "base_uri": "https://localhost:8080/",
          "height": 1000
        },
        "outputId": "ff6a6757-c364-452f-b3ea-865d7594a325"
      },
      "execution_count": null,
      "outputs": [
        {
          "output_type": "display_data",
          "data": {
            "text/html": [
              "<table class=\"dataframe\">\n",
              "<caption>A data.frame: 32 × 5</caption>\n",
              "<thead>\n",
              "\t<tr><th scope=col>Observation</th><th scope=col>Day</th><th scope=col>Time</th><th scope=col>Species</th><th scope=col>Count</th></tr>\n",
              "\t<tr><th scope=col>&lt;int&gt;</th><th scope=col>&lt;int&gt;</th><th scope=col>&lt;chr&gt;</th><th scope=col>&lt;chr&gt;</th><th scope=col>&lt;int&gt;</th></tr>\n",
              "</thead>\n",
              "<tbody>\n",
              "\t<tr><td>1</td><td>1</td><td>am</td><td>house finch  </td><td>11</td></tr>\n",
              "\t<tr><td>1</td><td>1</td><td>am</td><td>chickadee    </td><td> 2</td></tr>\n",
              "\t<tr><td>1</td><td>1</td><td>am</td><td>house sparrow</td><td>13</td></tr>\n",
              "\t<tr><td>1</td><td>1</td><td>am</td><td>cardinal     </td><td> 0</td></tr>\n",
              "\t<tr><td>2</td><td>1</td><td>pm</td><td>house finch  </td><td> 6</td></tr>\n",
              "\t<tr><td>2</td><td>1</td><td>pm</td><td>chickadee    </td><td> 1</td></tr>\n",
              "\t<tr><td>2</td><td>1</td><td>pm</td><td>house sparrow</td><td> 8</td></tr>\n",
              "\t<tr><td>2</td><td>1</td><td>pm</td><td>cardinal     </td><td> 0</td></tr>\n",
              "\t<tr><td>3</td><td>2</td><td>am</td><td>house finch  </td><td>18</td></tr>\n",
              "\t<tr><td>3</td><td>2</td><td>am</td><td>chickadee    </td><td> 7</td></tr>\n",
              "\t<tr><td>3</td><td>2</td><td>am</td><td>house sparrow</td><td>16</td></tr>\n",
              "\t<tr><td>3</td><td>2</td><td>am</td><td>cardinal     </td><td> 1</td></tr>\n",
              "\t<tr><td>4</td><td>2</td><td>pm</td><td>house finch  </td><td> 7</td></tr>\n",
              "\t<tr><td>4</td><td>2</td><td>pm</td><td>chickadee    </td><td> 6</td></tr>\n",
              "\t<tr><td>4</td><td>2</td><td>pm</td><td>house sparrow</td><td>12</td></tr>\n",
              "\t<tr><td>4</td><td>2</td><td>pm</td><td>cardinal     </td><td> 1</td></tr>\n",
              "\t<tr><td>5</td><td>3</td><td>am</td><td>house finch  </td><td>19</td></tr>\n",
              "\t<tr><td>5</td><td>3</td><td>am</td><td>chickadee    </td><td> 8</td></tr>\n",
              "\t<tr><td>5</td><td>3</td><td>am</td><td>house sparrow</td><td>16</td></tr>\n",
              "\t<tr><td>5</td><td>3</td><td>am</td><td>cardinal     </td><td> 1</td></tr>\n",
              "\t<tr><td>6</td><td>3</td><td>pm</td><td>house finch  </td><td> 4</td></tr>\n",
              "\t<tr><td>6</td><td>3</td><td>pm</td><td>chickadee    </td><td> 0</td></tr>\n",
              "\t<tr><td>6</td><td>3</td><td>pm</td><td>house sparrow</td><td> 2</td></tr>\n",
              "\t<tr><td>6</td><td>3</td><td>pm</td><td>cardinal     </td><td> 0</td></tr>\n",
              "\t<tr><td>7</td><td>4</td><td>am</td><td>house finch  </td><td>16</td></tr>\n",
              "\t<tr><td>7</td><td>4</td><td>am</td><td>chickadee    </td><td> 9</td></tr>\n",
              "\t<tr><td>7</td><td>4</td><td>am</td><td>house sparrow</td><td>14</td></tr>\n",
              "\t<tr><td>7</td><td>4</td><td>am</td><td>cardinal     </td><td> 0</td></tr>\n",
              "\t<tr><td>8</td><td>4</td><td>pm</td><td>house finch  </td><td>12</td></tr>\n",
              "\t<tr><td>8</td><td>4</td><td>pm</td><td>chickadee    </td><td> 7</td></tr>\n",
              "\t<tr><td>8</td><td>4</td><td>pm</td><td>house sparrow</td><td> 9</td></tr>\n",
              "\t<tr><td>8</td><td>4</td><td>pm</td><td>cardinal     </td><td> 0</td></tr>\n",
              "</tbody>\n",
              "</table>\n"
            ],
            "text/markdown": "\nA data.frame: 32 × 5\n\n| Observation &lt;int&gt; | Day &lt;int&gt; | Time &lt;chr&gt; | Species &lt;chr&gt; | Count &lt;int&gt; |\n|---|---|---|---|---|\n| 1 | 1 | am | house finch   | 11 |\n| 1 | 1 | am | chickadee     |  2 |\n| 1 | 1 | am | house sparrow | 13 |\n| 1 | 1 | am | cardinal      |  0 |\n| 2 | 1 | pm | house finch   |  6 |\n| 2 | 1 | pm | chickadee     |  1 |\n| 2 | 1 | pm | house sparrow |  8 |\n| 2 | 1 | pm | cardinal      |  0 |\n| 3 | 2 | am | house finch   | 18 |\n| 3 | 2 | am | chickadee     |  7 |\n| 3 | 2 | am | house sparrow | 16 |\n| 3 | 2 | am | cardinal      |  1 |\n| 4 | 2 | pm | house finch   |  7 |\n| 4 | 2 | pm | chickadee     |  6 |\n| 4 | 2 | pm | house sparrow | 12 |\n| 4 | 2 | pm | cardinal      |  1 |\n| 5 | 3 | am | house finch   | 19 |\n| 5 | 3 | am | chickadee     |  8 |\n| 5 | 3 | am | house sparrow | 16 |\n| 5 | 3 | am | cardinal      |  1 |\n| 6 | 3 | pm | house finch   |  4 |\n| 6 | 3 | pm | chickadee     |  0 |\n| 6 | 3 | pm | house sparrow |  2 |\n| 6 | 3 | pm | cardinal      |  0 |\n| 7 | 4 | am | house finch   | 16 |\n| 7 | 4 | am | chickadee     |  9 |\n| 7 | 4 | am | house sparrow | 14 |\n| 7 | 4 | am | cardinal      |  0 |\n| 8 | 4 | pm | house finch   | 12 |\n| 8 | 4 | pm | chickadee     |  7 |\n| 8 | 4 | pm | house sparrow |  9 |\n| 8 | 4 | pm | cardinal      |  0 |\n\n",
            "text/latex": "A data.frame: 32 × 5\n\\begin{tabular}{lllll}\n Observation & Day & Time & Species & Count\\\\\n <int> & <int> & <chr> & <chr> & <int>\\\\\n\\hline\n\t 1 & 1 & am & house finch   & 11\\\\\n\t 1 & 1 & am & chickadee     &  2\\\\\n\t 1 & 1 & am & house sparrow & 13\\\\\n\t 1 & 1 & am & cardinal      &  0\\\\\n\t 2 & 1 & pm & house finch   &  6\\\\\n\t 2 & 1 & pm & chickadee     &  1\\\\\n\t 2 & 1 & pm & house sparrow &  8\\\\\n\t 2 & 1 & pm & cardinal      &  0\\\\\n\t 3 & 2 & am & house finch   & 18\\\\\n\t 3 & 2 & am & chickadee     &  7\\\\\n\t 3 & 2 & am & house sparrow & 16\\\\\n\t 3 & 2 & am & cardinal      &  1\\\\\n\t 4 & 2 & pm & house finch   &  7\\\\\n\t 4 & 2 & pm & chickadee     &  6\\\\\n\t 4 & 2 & pm & house sparrow & 12\\\\\n\t 4 & 2 & pm & cardinal      &  1\\\\\n\t 5 & 3 & am & house finch   & 19\\\\\n\t 5 & 3 & am & chickadee     &  8\\\\\n\t 5 & 3 & am & house sparrow & 16\\\\\n\t 5 & 3 & am & cardinal      &  1\\\\\n\t 6 & 3 & pm & house finch   &  4\\\\\n\t 6 & 3 & pm & chickadee     &  0\\\\\n\t 6 & 3 & pm & house sparrow &  2\\\\\n\t 6 & 3 & pm & cardinal      &  0\\\\\n\t 7 & 4 & am & house finch   & 16\\\\\n\t 7 & 4 & am & chickadee     &  9\\\\\n\t 7 & 4 & am & house sparrow & 14\\\\\n\t 7 & 4 & am & cardinal      &  0\\\\\n\t 8 & 4 & pm & house finch   & 12\\\\\n\t 8 & 4 & pm & chickadee     &  7\\\\\n\t 8 & 4 & pm & house sparrow &  9\\\\\n\t 8 & 4 & pm & cardinal      &  0\\\\\n\\end{tabular}\n",
            "text/plain": [
              "   Observation Day Time Species       Count\n",
              "1  1           1   am   house finch   11   \n",
              "2  1           1   am   chickadee      2   \n",
              "3  1           1   am   house sparrow 13   \n",
              "4  1           1   am   cardinal       0   \n",
              "5  2           1   pm   house finch    6   \n",
              "6  2           1   pm   chickadee      1   \n",
              "7  2           1   pm   house sparrow  8   \n",
              "8  2           1   pm   cardinal       0   \n",
              "9  3           2   am   house finch   18   \n",
              "10 3           2   am   chickadee      7   \n",
              "11 3           2   am   house sparrow 16   \n",
              "12 3           2   am   cardinal       1   \n",
              "13 4           2   pm   house finch    7   \n",
              "14 4           2   pm   chickadee      6   \n",
              "15 4           2   pm   house sparrow 12   \n",
              "16 4           2   pm   cardinal       1   \n",
              "17 5           3   am   house finch   19   \n",
              "18 5           3   am   chickadee      8   \n",
              "19 5           3   am   house sparrow 16   \n",
              "20 5           3   am   cardinal       1   \n",
              "21 6           3   pm   house finch    4   \n",
              "22 6           3   pm   chickadee      0   \n",
              "23 6           3   pm   house sparrow  2   \n",
              "24 6           3   pm   cardinal       0   \n",
              "25 7           4   am   house finch   16   \n",
              "26 7           4   am   chickadee      9   \n",
              "27 7           4   am   house sparrow 14   \n",
              "28 7           4   am   cardinal       0   \n",
              "29 8           4   pm   house finch   12   \n",
              "30 8           4   pm   chickadee      7   \n",
              "31 8           4   pm   house sparrow  9   \n",
              "32 8           4   pm   cardinal       0   "
            ]
          },
          "metadata": {}
        }
      ]
    },
    {
      "cell_type": "markdown",
      "source": [
        "Yep, there are definitely some birds in there. These data are based on birds I observed at a feeder outside my bedroom window. Each observation was 10 minutes long and I counted the total number of birds of four different species."
      ],
      "metadata": {
        "id": "1dyZwwKm8YG2"
      }
    },
    {
      "cell_type": "markdown",
      "source": [
        "![bird_feeder.jpeg](data:image/jpeg;base64,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)"
      ],
      "metadata": {
        "id": "iuYglTZ48rS3"
      }
    },
    {
      "cell_type": "markdown",
      "source": [
        "The image above shows three birds along a black balcony railing. There are trees and a power line in the background. The bird on the right has a bright red head and chest, which is characteristic of a male house finch.\n",
        "\n",
        "Read on to learn more about the structure of the dataset."
      ],
      "metadata": {
        "id": "UkLjKYJv86C_"
      }
    },
    {
      "cell_type": "code",
      "source": [
        "# Maybe edit dataset to have five days instead of four to make box and whisker plots more clear.\n",
        "# If changed, update info about the number number or rows and number of days below."
      ],
      "metadata": {
        "id": "I8AWZluyBD8P"
      },
      "execution_count": null,
      "outputs": []
    },
    {
      "cell_type": "markdown",
      "source": [
        "## Introduction to Data Frames\n",
        "We see information about four different bird species and how many are counted in an observation period. Pay attention to how these data are organized.\n",
        "\n",
        "\n",
        "*   At the top, we see that R considers this object a **Data Frame**, and it is organized as a table, similar to what you would see in Excel or Google Sheets.\n",
        "*   Each observation has its own unique number, 1 to 8. This tells us that\n",
        "there were 8 observations total.\n",
        "*   For each observation, each species is listed in its own **row** (running horizonally). In all, there are 32 rows. (We see this information at the very top.)\n",
        "*   The observations were conducted over 4 days (Day 1 - 4).\n",
        "*   There were two observations each day. The **column** (running vertical) Time specifies whether the observation occured in the am or pm. (At the very top, we also see that our dataframe has 5 columns.)\n",
        "\n",
        "You might be thinking that we could have fewer rows in our dataset if we instead had a different column for each bird species. That's true, but organizing our data in this format, where each different variable is its own column, will make it easier to graph and analyze our data.\n",
        "\n",
        "Whenever you are uploading your own data, you should organize it in the same way as the birds dataset. This structure is called **long format** or **tidy data**. The tools we will learn to use like your data structured this way!\n",
        "\n",
        "For instance, this format makes it easy to quickly graph our data so that we can look for any patterns or trends. Run the cell below to see an example visualization."
      ],
      "metadata": {
        "id": "wrA-mPMXW_xX"
      }
    },
    {
      "cell_type": "code",
      "source": [
        "ggplot(birds, aes(x=Observation, y = Count)) +\n",
        "  geom_point() +\n",
        "  facet_wrap(~Species) +\n",
        "  theme_bw()"
      ],
      "metadata": {
        "colab": {
          "base_uri": "https://localhost:8080/",
          "height": 437
        },
        "id": "A9MTiZwx7Qcv",
        "outputId": "b46789bb-3ca8-4812-ab0f-7eb1cde8825c"
      },
      "execution_count": null,
      "outputs": [
        {
          "output_type": "display_data",
          "data": {
            "text/plain": [
              "plot without title"
            ],
            "image/png": "[encoded data removed]"
          },
          "metadata": {
            "image/png": {
              "width": 420,
              "height": 420
            }
          }
        }
      ]
    },
    {
      "cell_type": "markdown",
      "source": [
        "In your next assigned Colab Notebook, you will learn to make many different kinds of graphs. You will also learn the code to change the colors, font size, etc.\n",
        "\n",
        "The graph above isn't very pretty yet, but notice that we made it with just a few lines of code. It would take several steps to get a similar visualization with Excel or Google Sheets.\n",
        "\n",
        "Making graphs is a great first step to start asking and answering questions about our data."
      ],
      "metadata": {
        "id": "f3WjHUkDBRhH"
      }
    },
    {
      "cell_type": "markdown",
      "source": [
        "### Question 3\n",
        "Based on the graph above **which two species** do you think were most common during the observations?"
      ],
      "metadata": {
        "id": "S2yUpffcCGn1"
      }
    },
    {
      "cell_type": "markdown",
      "source": [
        "*Replace this text with your answer.*"
      ],
      "metadata": {
        "id": "lsGicLhcC9GY"
      }
    },
    {
      "cell_type": "markdown",
      "source": [
        "## Exploring Data with Glimpse and Summarise"
      ],
      "metadata": {
        "id": "F2BRqSlsQxUV"
      }
    },
    {
      "cell_type": "markdown",
      "source": [
        "Often we will have large and complex datasets where we can'st see everything at once. Luckily, there are some great tools to give us an overview of our data. Run the cell below to see what **glimpse** does. This is a handy command to see the size (rows and columns) of our data frame, the colum names, and some of the data in each column in a compact, easily readable way."
      ],
      "metadata": {
        "id": "DbyfGc4d2Hqx"
      }
    },
    {
      "cell_type": "code",
      "source": [
        "glimpse(birds)"
      ],
      "metadata": {
        "id": "AzaQTY1sWu9H",
        "colab": {
          "base_uri": "https://localhost:8080/"
        },
        "outputId": "33b78a09-36f6-4e73-8134-bd870ddebba1"
      },
      "execution_count": null,
      "outputs": [
        {
          "output_type": "stream",
          "name": "stdout",
          "text": [
            "Rows: 32\n",
            "Columns: 5\n",
            "$ Observation \u001b[3m\u001b[90m<int>\u001b[39m\u001b[23m 1, 1, 1, 1, 2, 2, 2, 2, 3, 3, 3, 3, 4, 4, 4, 4, 5, 5, 5, 5…\n",
            "$ Day         \u001b[3m\u001b[90m<int>\u001b[39m\u001b[23m 1, 1, 1, 1, 1, 1, 1, 1, 2, 2, 2, 2, 2, 2, 2, 2, 3, 3, 3, 3…\n",
            "$ Time        \u001b[3m\u001b[90m<chr>\u001b[39m\u001b[23m \"am\", \"am\", \"am\", \"am\", \"pm\", \"pm\", \"pm\", \"pm\", \"am\", \"am\"…\n",
            "$ Species     \u001b[3m\u001b[90m<chr>\u001b[39m\u001b[23m \"house finch\", \"chickadee\", \"house sparrow\", \"cardinal\", \"…\n",
            "$ Count       \u001b[3m\u001b[90m<int>\u001b[39m\u001b[23m 11, 2, 13, 0, 6, 1, 8, 0, 18, 7, 16, 1, 7, 6, 12, 1, 19, 8…\n"
          ]
        }
      ]
    },
    {
      "cell_type": "markdown",
      "source": [
        "You will learn more about calculating statistics like average values in the next notebook, so for now let's consider other ways we might want to summarize our data. Remember that the tiny data format includes separate rows for each species in the same observation. What if we want to know the **total number of birds** counted during each observation?"
      ],
      "metadata": {
        "id": "CP8JO33EGWhq"
      }
    },
    {
      "cell_type": "code",
      "source": [
        "summarise(\n",
        "  group_by(birds, Observation),\n",
        "  Total = sum(Count)\n",
        ")"
      ],
      "metadata": {
        "id": "PvMGhXeW2P2D",
        "colab": {
          "base_uri": "https://localhost:8080/",
          "height": 349
        },
        "outputId": "5ccd7714-fc3d-420b-9bd0-6505aa55676b"
      },
      "execution_count": null,
      "outputs": [
        {
          "output_type": "display_data",
          "data": {
            "text/html": [
              "<table class=\"dataframe\">\n",
              "<caption>A tibble: 8 × 2</caption>\n",
              "<thead>\n",
              "\t<tr><th scope=col>Observation</th><th scope=col>Total</th></tr>\n",
              "\t<tr><th scope=col>&lt;int&gt;</th><th scope=col>&lt;int&gt;</th></tr>\n",
              "</thead>\n",
              "<tbody>\n",
              "\t<tr><td>1</td><td>26</td></tr>\n",
              "\t<tr><td>2</td><td>15</td></tr>\n",
              "\t<tr><td>3</td><td>42</td></tr>\n",
              "\t<tr><td>4</td><td>26</td></tr>\n",
              "\t<tr><td>5</td><td>44</td></tr>\n",
              "\t<tr><td>6</td><td> 6</td></tr>\n",
              "\t<tr><td>7</td><td>39</td></tr>\n",
              "\t<tr><td>8</td><td>28</td></tr>\n",
              "</tbody>\n",
              "</table>\n"
            ],
            "text/markdown": "\nA tibble: 8 × 2\n\n| Observation &lt;int&gt; | Total &lt;int&gt; |\n|---|---|\n| 1 | 26 |\n| 2 | 15 |\n| 3 | 42 |\n| 4 | 26 |\n| 5 | 44 |\n| 6 |  6 |\n| 7 | 39 |\n| 8 | 28 |\n\n",
            "text/latex": "A tibble: 8 × 2\n\\begin{tabular}{ll}\n Observation & Total\\\\\n <int> & <int>\\\\\n\\hline\n\t 1 & 26\\\\\n\t 2 & 15\\\\\n\t 3 & 42\\\\\n\t 4 & 26\\\\\n\t 5 & 44\\\\\n\t 6 &  6\\\\\n\t 7 & 39\\\\\n\t 8 & 28\\\\\n\\end{tabular}\n",
            "text/plain": [
              "  Observation Total\n",
              "1 1           26   \n",
              "2 2           15   \n",
              "3 3           42   \n",
              "4 4           26   \n",
              "5 5           44   \n",
              "6 6            6   \n",
              "7 7           39   \n",
              "8 8           28   "
            ]
          },
          "metadata": {}
        }
      ]
    },
    {
      "cell_type": "markdown",
      "source": [
        "Nice! It took just a few lines of code to get these totals. Notice that R returned another table (which it calls a tibble). We can repeat the code above but this time assign it to a name, so that we can use these totals again soon. Remember that with assignment statements, we won't see an output but R has stored the information."
      ],
      "metadata": {
        "id": "gdvHTA3AJfwL"
      }
    },
    {
      "cell_type": "code",
      "source": [
        "total_counts <- summarise(\n",
        "  group_by(birds, Observation),\n",
        "  Total = sum(Count)\n",
        ")"
      ],
      "metadata": {
        "id": "wonqjeAAJ-tU"
      },
      "execution_count": null,
      "outputs": []
    },
    {
      "cell_type": "markdown",
      "source": [
        "### Question 4\n",
        "In the cell below, write code that will calculate the total number of each of the four species seen across all observations. Assign the resulting tibble to the name **species_counts**.\n",
        "\n",
        "*   Hint 1: Notice the spelling of the command **summarise**. (You will often see British spellings as some of the R developers are outside of the United States.)\n",
        "*   Hint 2: Pay attention to the parentheses. You always need to have a matching number of starting and closing parentheses.\n",
        "*   Hint 3: The indentations and commas are also important. You might wish to copy the code above and make changes where needed.\n",
        "*   Hint 4: Don't panic if you get an error message. Just keep trying new things until you get it right. That's how we learn!"
      ],
      "metadata": {
        "id": "FTA_Qo2kKR3M"
      }
    },
    {
      "cell_type": "code",
      "source": [
        "# Answer - delete this code but leave cell\n",
        "species_counts <-summarise(\n",
        "  group_by(birds, Species),\n",
        "  Total = sum(Count)\n",
        ")"
      ],
      "metadata": {
        "colab": {
          "base_uri": "https://localhost:8080/",
          "height": 224
        },
        "id": "zuXjE8hRKNWB",
        "outputId": "61d62229-f94d-4787-ca7b-839ed01e875b"
      },
      "execution_count": null,
      "outputs": [
        {
          "output_type": "display_data",
          "data": {
            "text/html": [
              "<table class=\"dataframe\">\n",
              "<caption>A tibble: 4 × 2</caption>\n",
              "<thead>\n",
              "\t<tr><th scope=col>Species</th><th scope=col>Total</th></tr>\n",
              "\t<tr><th scope=col>&lt;chr&gt;</th><th scope=col>&lt;int&gt;</th></tr>\n",
              "</thead>\n",
              "<tbody>\n",
              "\t<tr><td>cardinal     </td><td> 3</td></tr>\n",
              "\t<tr><td>chickadee    </td><td>40</td></tr>\n",
              "\t<tr><td>house finch  </td><td>93</td></tr>\n",
              "\t<tr><td>house sparrow</td><td>90</td></tr>\n",
              "</tbody>\n",
              "</table>\n"
            ],
            "text/markdown": "\nA tibble: 4 × 2\n\n| Species &lt;chr&gt; | Total &lt;int&gt; |\n|---|---|\n| cardinal      |  3 |\n| chickadee     | 40 |\n| house finch   | 93 |\n| house sparrow | 90 |\n\n",
            "text/latex": "A tibble: 4 × 2\n\\begin{tabular}{ll}\n Species & Total\\\\\n <chr> & <int>\\\\\n\\hline\n\t cardinal      &  3\\\\\n\t chickadee     & 40\\\\\n\t house finch   & 93\\\\\n\t house sparrow & 90\\\\\n\\end{tabular}\n",
            "text/plain": [
              "  Species       Total\n",
              "1 cardinal       3   \n",
              "2 chickadee     40   \n",
              "3 house finch   93   \n",
              "4 house sparrow 90   "
            ]
          },
          "metadata": {}
        }
      ]
    },
    {
      "cell_type": "markdown",
      "source": [
        "### Question 5\n",
        "If you haven't already done so, create a Code cell and type species_counts to see the result. How do you think R ordered the species?"
      ],
      "metadata": {
        "id": "AW6WUjgULr-c"
      }
    },
    {
      "cell_type": "markdown",
      "source": [
        "*Replace this text with your answer.*"
      ],
      "metadata": {
        "id": "YxiiYpZVMAUT"
      }
    },
    {
      "cell_type": "markdown",
      "source": [
        "### Question 6\n",
        "Go back and look at your answers for Question 3. Were you correct about which two species were most common in the observations? Explain."
      ],
      "metadata": {
        "id": "-Ed6yhrFMLDH"
      }
    },
    {
      "cell_type": "markdown",
      "source": [
        "*Replace this text with your answer.*"
      ],
      "metadata": {
        "id": "0rcKuF_MMaet"
      }
    },
    {
      "cell_type": "markdown",
      "source": [
        "# Part 3: Uploading a Data File to a Colab Notebook\n"
      ],
      "metadata": {
        "id": "6v9uaS-ZLjOG"
      }
    },
    {
      "cell_type": "markdown",
      "source": [
        "Earlier we were working with data that I had posted online. Most commonly, you will want to upload your own data files. The tools we use in R are meant to work with a type of file called .csv, which stands for comma-separated values.\n",
        "\n",
        "*  If your data are in Excel, go to **File** and then **Save As** to convert to a .csv file.\n",
        "*   If your data are in Google Sheets, go to **File** and then **Download** and select the .csv option.\n",
        "\n",
        "Whichever system you are working in, remember to use the tidy **data format** to organize your data."
      ],
      "metadata": {
        "id": "feHoZYXdS4PF"
      }
    },
    {
      "cell_type": "markdown",
      "source": [
        "For now, we will work with a .csv file I created previously. Follow the steps below to upload it to this notebook:\n",
        "\n",
        "1.   Download the file **observation_log.csv** from D2L or the email from the instructor.\n",
        "2.   Check where this file has saved on your computer. It is likely in the Downloads file or saved to your Desktop.\n",
        "1.   In this notebook, look for the file icon on the left side of the screen. It should be at the bottom of four  icons on that side.\n",
        "2.   Click the **file icon**, and a file directory will appear.\n",
        "\n",
        "**Add final directions here.** May be easier to make a screencast video.\n",
        "\n",
        "\n",
        "Now that our file is loaded into the Colab Notebook, we can use the command **read.csv** to work with it. Note that we always need to put the file name in quotation marks. You will have to repeat the step of uploading your file and running the read.csv code each time you open a notebook."
      ],
      "metadata": {
        "id": "F4cjp_S5UpwN"
      }
    },
    {
      "cell_type": "code",
      "source": [
        "read.csv(\"observation_log.csv\")"
      ],
      "metadata": {
        "colab": {
          "base_uri": "https://localhost:8080/",
          "height": 349
        },
        "id": "fhOIffTPS3BP",
        "outputId": "e3440cd9-ee76-4606-da99-66f8e497fa84"
      },
      "execution_count": null,
      "outputs": [
        {
          "output_type": "display_data",
          "data": {
            "text/html": [
              "<table class=\"dataframe\">\n",
              "<caption>A data.frame: 8 × 6</caption>\n",
              "<thead>\n",
              "\t<tr><th scope=col>Observation</th><th scope=col>Date</th><th scope=col>Time</th><th scope=col>Start</th><th scope=col>Temperature_f</th><th scope=col>Weather</th></tr>\n",
              "\t<tr><th scope=col>&lt;int&gt;</th><th scope=col>&lt;chr&gt;</th><th scope=col>&lt;chr&gt;</th><th scope=col>&lt;chr&gt;</th><th scope=col>&lt;int&gt;</th><th scope=col>&lt;chr&gt;</th></tr>\n",
              "</thead>\n",
              "<tbody>\n",
              "\t<tr><td>1</td><td>3/1/25</td><td>am</td><td>8:00 </td><td>33</td><td>rainy </td></tr>\n",
              "\t<tr><td>2</td><td>3/1/25</td><td>pm</td><td>15:00</td><td>36</td><td>cloudy</td></tr>\n",
              "\t<tr><td>3</td><td>3/2/25</td><td>am</td><td>8:00 </td><td>44</td><td>sunny </td></tr>\n",
              "\t<tr><td>4</td><td>3/2/25</td><td>pm</td><td>15:00</td><td>40</td><td>cloudy</td></tr>\n",
              "\t<tr><td>5</td><td>3/3/25</td><td>am</td><td>8:06 </td><td>46</td><td>sunny </td></tr>\n",
              "\t<tr><td>6</td><td>3/3/25</td><td>pm</td><td>15:00</td><td>42</td><td>cloudy</td></tr>\n",
              "\t<tr><td>7</td><td>3/4/25</td><td>am</td><td>8:00 </td><td>39</td><td>sunny </td></tr>\n",
              "\t<tr><td>8</td><td>3/4/25</td><td>pm</td><td>14:28</td><td>35</td><td>rainy </td></tr>\n",
              "</tbody>\n",
              "</table>\n"
            ],
            "text/markdown": "\nA data.frame: 8 × 6\n\n| Observation &lt;int&gt; | Date &lt;chr&gt; | Time &lt;chr&gt; | Start &lt;chr&gt; | Temperature_f &lt;int&gt; | Weather &lt;chr&gt; |\n|---|---|---|---|---|---|\n| 1 | 3/1/25 | am | 8:00  | 33 | rainy  |\n| 2 | 3/1/25 | pm | 15:00 | 36 | cloudy |\n| 3 | 3/2/25 | am | 8:00  | 44 | sunny  |\n| 4 | 3/2/25 | pm | 15:00 | 40 | cloudy |\n| 5 | 3/3/25 | am | 8:06  | 46 | sunny  |\n| 6 | 3/3/25 | pm | 15:00 | 42 | cloudy |\n| 7 | 3/4/25 | am | 8:00  | 39 | sunny  |\n| 8 | 3/4/25 | pm | 14:28 | 35 | rainy  |\n\n",
            "text/latex": "A data.frame: 8 × 6\n\\begin{tabular}{llllll}\n Observation & Date & Time & Start & Temperature\\_f & Weather\\\\\n <int> & <chr> & <chr> & <chr> & <int> & <chr>\\\\\n\\hline\n\t 1 & 3/1/25 & am & 8:00  & 33 & rainy \\\\\n\t 2 & 3/1/25 & pm & 15:00 & 36 & cloudy\\\\\n\t 3 & 3/2/25 & am & 8:00  & 44 & sunny \\\\\n\t 4 & 3/2/25 & pm & 15:00 & 40 & cloudy\\\\\n\t 5 & 3/3/25 & am & 8:06  & 46 & sunny \\\\\n\t 6 & 3/3/25 & pm & 15:00 & 42 & cloudy\\\\\n\t 7 & 3/4/25 & am & 8:00  & 39 & sunny \\\\\n\t 8 & 3/4/25 & pm & 14:28 & 35 & rainy \\\\\n\\end{tabular}\n",
            "text/plain": [
              "  Observation Date   Time Start Temperature_f Weather\n",
              "1 1           3/1/25 am   8:00  33            rainy  \n",
              "2 2           3/1/25 pm   15:00 36            cloudy \n",
              "3 3           3/2/25 am   8:00  44            sunny  \n",
              "4 4           3/2/25 pm   15:00 40            cloudy \n",
              "5 5           3/3/25 am   8:06  46            sunny  \n",
              "6 6           3/3/25 pm   15:00 42            cloudy \n",
              "7 7           3/4/25 am   8:00  39            sunny  \n",
              "8 8           3/4/25 pm   14:28 35            rainy  "
            ]
          },
          "metadata": {}
        }
      ]
    },
    {
      "cell_type": "markdown",
      "source": [
        "##Making Changes and Exporting Data Frames"
      ],
      "metadata": {
        "id": "G1vgj-pSm25Z"
      }
    },
    {
      "cell_type": "markdown",
      "source": [
        "Now we can see the data in the file, but we need to assign the data frame to a name so that we can work with it."
      ],
      "metadata": {
        "id": "oL9J2T1dlqcM"
      }
    },
    {
      "cell_type": "markdown",
      "source": [
        "### Question 7\n",
        "Add a code cell below. Copy the read.csv code from above but add an assignment arrow to name the data frame **obs_log**."
      ],
      "metadata": {
        "id": "a3LiusYal5mM"
      }
    },
    {
      "cell_type": "code",
      "source": [
        "# Cut this cell out in student version.\n",
        "obs_log <- read.csv(\"observation_log.csv\")\n",
        "obs_log"
      ],
      "metadata": {
        "colab": {
          "base_uri": "https://localhost:8080/",
          "height": 349
        },
        "id": "rTZn5R2bmOVk",
        "outputId": "fde3e749-a996-43b0-e53f-0bebb35bfffa"
      },
      "execution_count": 46,
      "outputs": [
        {
          "output_type": "display_data",
          "data": {
            "text/html": [
              "<table class=\"dataframe\">\n",
              "<caption>A data.frame: 8 × 6</caption>\n",
              "<thead>\n",
              "\t<tr><th scope=col>Observation</th><th scope=col>Date</th><th scope=col>Time</th><th scope=col>Start</th><th scope=col>Temperature_f</th><th scope=col>Weather</th></tr>\n",
              "\t<tr><th scope=col>&lt;int&gt;</th><th scope=col>&lt;chr&gt;</th><th scope=col>&lt;chr&gt;</th><th scope=col>&lt;chr&gt;</th><th scope=col>&lt;int&gt;</th><th scope=col>&lt;chr&gt;</th></tr>\n",
              "</thead>\n",
              "<tbody>\n",
              "\t<tr><td>1</td><td>3/1/25</td><td>am</td><td>8:00 </td><td>33</td><td>rainy </td></tr>\n",
              "\t<tr><td>2</td><td>3/1/25</td><td>pm</td><td>15:00</td><td>36</td><td>cloudy</td></tr>\n",
              "\t<tr><td>3</td><td>3/2/25</td><td>am</td><td>8:00 </td><td>44</td><td>sunny </td></tr>\n",
              "\t<tr><td>4</td><td>3/2/25</td><td>pm</td><td>15:00</td><td>40</td><td>cloudy</td></tr>\n",
              "\t<tr><td>5</td><td>3/3/25</td><td>am</td><td>8:06 </td><td>46</td><td>sunny </td></tr>\n",
              "\t<tr><td>6</td><td>3/3/25</td><td>pm</td><td>15:00</td><td>42</td><td>cloudy</td></tr>\n",
              "\t<tr><td>7</td><td>3/4/25</td><td>am</td><td>8:00 </td><td>39</td><td>sunny </td></tr>\n",
              "\t<tr><td>8</td><td>3/4/25</td><td>pm</td><td>14:28</td><td>35</td><td>rainy </td></tr>\n",
              "</tbody>\n",
              "</table>\n"
            ],
            "text/markdown": "\nA data.frame: 8 × 6\n\n| Observation &lt;int&gt; | Date &lt;chr&gt; | Time &lt;chr&gt; | Start &lt;chr&gt; | Temperature_f &lt;int&gt; | Weather &lt;chr&gt; |\n|---|---|---|---|---|---|\n| 1 | 3/1/25 | am | 8:00  | 33 | rainy  |\n| 2 | 3/1/25 | pm | 15:00 | 36 | cloudy |\n| 3 | 3/2/25 | am | 8:00  | 44 | sunny  |\n| 4 | 3/2/25 | pm | 15:00 | 40 | cloudy |\n| 5 | 3/3/25 | am | 8:06  | 46 | sunny  |\n| 6 | 3/3/25 | pm | 15:00 | 42 | cloudy |\n| 7 | 3/4/25 | am | 8:00  | 39 | sunny  |\n| 8 | 3/4/25 | pm | 14:28 | 35 | rainy  |\n\n",
            "text/latex": "A data.frame: 8 × 6\n\\begin{tabular}{llllll}\n Observation & Date & Time & Start & Temperature\\_f & Weather\\\\\n <int> & <chr> & <chr> & <chr> & <int> & <chr>\\\\\n\\hline\n\t 1 & 3/1/25 & am & 8:00  & 33 & rainy \\\\\n\t 2 & 3/1/25 & pm & 15:00 & 36 & cloudy\\\\\n\t 3 & 3/2/25 & am & 8:00  & 44 & sunny \\\\\n\t 4 & 3/2/25 & pm & 15:00 & 40 & cloudy\\\\\n\t 5 & 3/3/25 & am & 8:06  & 46 & sunny \\\\\n\t 6 & 3/3/25 & pm & 15:00 & 42 & cloudy\\\\\n\t 7 & 3/4/25 & am & 8:00  & 39 & sunny \\\\\n\t 8 & 3/4/25 & pm & 14:28 & 35 & rainy \\\\\n\\end{tabular}\n",
            "text/plain": [
              "  Observation Date   Time Start Temperature_f Weather\n",
              "1 1           3/1/25 am   8:00  33            rainy  \n",
              "2 2           3/1/25 pm   15:00 36            cloudy \n",
              "3 3           3/2/25 am   8:00  44            sunny  \n",
              "4 4           3/2/25 pm   15:00 40            cloudy \n",
              "5 5           3/3/25 am   8:06  46            sunny  \n",
              "6 6           3/3/25 pm   15:00 42            cloudy \n",
              "7 7           3/4/25 am   8:00  39            sunny  \n",
              "8 8           3/4/25 pm   14:28 35            rainy  "
            ]
          },
          "metadata": {}
        }
      ]
    },
    {
      "cell_type": "markdown",
      "source": [
        "Remember the total_counts we had R calculate for us earlier? Let's take a look."
      ],
      "metadata": {
        "id": "_yPj0aLVmjiW"
      }
    },
    {
      "cell_type": "code",
      "source": [
        "total_counts"
      ],
      "metadata": {
        "id": "Mf3GiGnpWiQI",
        "colab": {
          "base_uri": "https://localhost:8080/",
          "height": 349
        },
        "outputId": "b6b5ee3d-2cd4-4286-f6dc-a34cce383574"
      },
      "execution_count": 47,
      "outputs": [
        {
          "output_type": "display_data",
          "data": {
            "text/html": [
              "<table class=\"dataframe\">\n",
              "<caption>A tibble: 8 × 2</caption>\n",
              "<thead>\n",
              "\t<tr><th scope=col>Observation</th><th scope=col>Total</th></tr>\n",
              "\t<tr><th scope=col>&lt;int&gt;</th><th scope=col>&lt;int&gt;</th></tr>\n",
              "</thead>\n",
              "<tbody>\n",
              "\t<tr><td>1</td><td>26</td></tr>\n",
              "\t<tr><td>2</td><td>15</td></tr>\n",
              "\t<tr><td>3</td><td>42</td></tr>\n",
              "\t<tr><td>4</td><td>26</td></tr>\n",
              "\t<tr><td>5</td><td>44</td></tr>\n",
              "\t<tr><td>6</td><td> 6</td></tr>\n",
              "\t<tr><td>7</td><td>39</td></tr>\n",
              "\t<tr><td>8</td><td>28</td></tr>\n",
              "</tbody>\n",
              "</table>\n"
            ],
            "text/markdown": "\nA tibble: 8 × 2\n\n| Observation &lt;int&gt; | Total &lt;int&gt; |\n|---|---|\n| 1 | 26 |\n| 2 | 15 |\n| 3 | 42 |\n| 4 | 26 |\n| 5 | 44 |\n| 6 |  6 |\n| 7 | 39 |\n| 8 | 28 |\n\n",
            "text/latex": "A tibble: 8 × 2\n\\begin{tabular}{ll}\n Observation & Total\\\\\n <int> & <int>\\\\\n\\hline\n\t 1 & 26\\\\\n\t 2 & 15\\\\\n\t 3 & 42\\\\\n\t 4 & 26\\\\\n\t 5 & 44\\\\\n\t 6 &  6\\\\\n\t 7 & 39\\\\\n\t 8 & 28\\\\\n\\end{tabular}\n",
            "text/plain": [
              "  Observation Total\n",
              "1 1           26   \n",
              "2 2           15   \n",
              "3 3           42   \n",
              "4 4           26   \n",
              "5 5           44   \n",
              "6 6            6   \n",
              "7 7           39   \n",
              "8 8           28   "
            ]
          },
          "metadata": {}
        }
      ]
    },
    {
      "cell_type": "markdown",
      "source": [
        "Any ideas for what we might want to do next? It would be helpful to see the total count of birds in each observation in the same data frame with the observation data like temperature and weather. We can use the command **bind_cols()** to combine two data frames."
      ],
      "metadata": {
        "id": "_2H0dCs5mp44"
      }
    },
    {
      "cell_type": "code",
      "source": [
        "bind_cols(obs_log, total_counts)"
      ],
      "metadata": {
        "id": "KDy3Yvzo0H7M",
        "colab": {
          "base_uri": "https://localhost:8080/",
          "height": 403
        },
        "outputId": "873a193f-0691-4dc5-b8eb-a3c765f7bb2b"
      },
      "execution_count": 55,
      "outputs": [
        {
          "output_type": "stream",
          "name": "stderr",
          "text": [
            "\u001b[1m\u001b[22mNew names:\n",
            "\u001b[36m•\u001b[39m `Observation` -> `Observation...1`\n",
            "\u001b[36m•\u001b[39m `Observation` -> `Observation...7`\n"
          ]
        },
        {
          "output_type": "display_data",
          "data": {
            "text/html": [
              "<table class=\"dataframe\">\n",
              "<caption>A data.frame: 8 × 8</caption>\n",
              "<thead>\n",
              "\t<tr><th scope=col>Observation...1</th><th scope=col>Date</th><th scope=col>Time</th><th scope=col>Start</th><th scope=col>Temperature_f</th><th scope=col>Weather</th><th scope=col>Observation...7</th><th scope=col>Total</th></tr>\n",
              "\t<tr><th scope=col>&lt;int&gt;</th><th scope=col>&lt;chr&gt;</th><th scope=col>&lt;chr&gt;</th><th scope=col>&lt;chr&gt;</th><th scope=col>&lt;int&gt;</th><th scope=col>&lt;chr&gt;</th><th scope=col>&lt;int&gt;</th><th scope=col>&lt;int&gt;</th></tr>\n",
              "</thead>\n",
              "<tbody>\n",
              "\t<tr><td>1</td><td>3/1/25</td><td>am</td><td>8:00 </td><td>33</td><td>rainy </td><td>1</td><td>26</td></tr>\n",
              "\t<tr><td>2</td><td>3/1/25</td><td>pm</td><td>15:00</td><td>36</td><td>cloudy</td><td>2</td><td>15</td></tr>\n",
              "\t<tr><td>3</td><td>3/2/25</td><td>am</td><td>8:00 </td><td>44</td><td>sunny </td><td>3</td><td>42</td></tr>\n",
              "\t<tr><td>4</td><td>3/2/25</td><td>pm</td><td>15:00</td><td>40</td><td>cloudy</td><td>4</td><td>26</td></tr>\n",
              "\t<tr><td>5</td><td>3/3/25</td><td>am</td><td>8:06 </td><td>46</td><td>sunny </td><td>5</td><td>44</td></tr>\n",
              "\t<tr><td>6</td><td>3/3/25</td><td>pm</td><td>15:00</td><td>42</td><td>cloudy</td><td>6</td><td> 6</td></tr>\n",
              "\t<tr><td>7</td><td>3/4/25</td><td>am</td><td>8:00 </td><td>39</td><td>sunny </td><td>7</td><td>39</td></tr>\n",
              "\t<tr><td>8</td><td>3/4/25</td><td>pm</td><td>14:28</td><td>35</td><td>rainy </td><td>8</td><td>28</td></tr>\n",
              "</tbody>\n",
              "</table>\n"
            ],
            "text/markdown": "\nA data.frame: 8 × 8\n\n| Observation...1 &lt;int&gt; | Date &lt;chr&gt; | Time &lt;chr&gt; | Start &lt;chr&gt; | Temperature_f &lt;int&gt; | Weather &lt;chr&gt; | Observation...7 &lt;int&gt; | Total &lt;int&gt; |\n|---|---|---|---|---|---|---|---|\n| 1 | 3/1/25 | am | 8:00  | 33 | rainy  | 1 | 26 |\n| 2 | 3/1/25 | pm | 15:00 | 36 | cloudy | 2 | 15 |\n| 3 | 3/2/25 | am | 8:00  | 44 | sunny  | 3 | 42 |\n| 4 | 3/2/25 | pm | 15:00 | 40 | cloudy | 4 | 26 |\n| 5 | 3/3/25 | am | 8:06  | 46 | sunny  | 5 | 44 |\n| 6 | 3/3/25 | pm | 15:00 | 42 | cloudy | 6 |  6 |\n| 7 | 3/4/25 | am | 8:00  | 39 | sunny  | 7 | 39 |\n| 8 | 3/4/25 | pm | 14:28 | 35 | rainy  | 8 | 28 |\n\n",
            "text/latex": "A data.frame: 8 × 8\n\\begin{tabular}{llllllll}\n Observation...1 & Date & Time & Start & Temperature\\_f & Weather & Observation...7 & Total\\\\\n <int> & <chr> & <chr> & <chr> & <int> & <chr> & <int> & <int>\\\\\n\\hline\n\t 1 & 3/1/25 & am & 8:00  & 33 & rainy  & 1 & 26\\\\\n\t 2 & 3/1/25 & pm & 15:00 & 36 & cloudy & 2 & 15\\\\\n\t 3 & 3/2/25 & am & 8:00  & 44 & sunny  & 3 & 42\\\\\n\t 4 & 3/2/25 & pm & 15:00 & 40 & cloudy & 4 & 26\\\\\n\t 5 & 3/3/25 & am & 8:06  & 46 & sunny  & 5 & 44\\\\\n\t 6 & 3/3/25 & pm & 15:00 & 42 & cloudy & 6 &  6\\\\\n\t 7 & 3/4/25 & am & 8:00  & 39 & sunny  & 7 & 39\\\\\n\t 8 & 3/4/25 & pm & 14:28 & 35 & rainy  & 8 & 28\\\\\n\\end{tabular}\n",
            "text/plain": [
              "  Observation...1 Date   Time Start Temperature_f Weather Observation...7 Total\n",
              "1 1               3/1/25 am   8:00  33            rainy   1               26   \n",
              "2 2               3/1/25 pm   15:00 36            cloudy  2               15   \n",
              "3 3               3/2/25 am   8:00  44            sunny   3               42   \n",
              "4 4               3/2/25 pm   15:00 40            cloudy  4               26   \n",
              "5 5               3/3/25 am   8:06  46            sunny   5               44   \n",
              "6 6               3/3/25 pm   15:00 42            cloudy  6                6   \n",
              "7 7               3/4/25 am   8:00  39            sunny   7               39   \n",
              "8 8               3/4/25 pm   14:28 35            rainy   8               28   "
            ]
          },
          "metadata": {}
        }
      ]
    },
    {
      "cell_type": "markdown",
      "source": [
        "Both of the original tables had a column named Observations, so R gave us a message that those columns 1 and 7 have the same name. We can clean that up in a second. We also notice that we now have two columns with the Observation number. It is important to double check that the observations match, but we don't now we don't need that column twice. Before we make changes to our data frame we need to name it."
      ],
      "metadata": {
        "id": "R0yOxFUSpXd2"
      }
    },
    {
      "cell_type": "code",
      "source": [
        "combined_obs <- bind_cols(obs_log, total_counts)"
      ],
      "metadata": {
        "colab": {
          "base_uri": "https://localhost:8080/"
        },
        "id": "vyhy6GMop5SM",
        "outputId": "3a205899-b4a9-4a01-e671-00488cbf11c4"
      },
      "execution_count": 74,
      "outputs": [
        {
          "output_type": "stream",
          "name": "stderr",
          "text": [
            "\u001b[1m\u001b[22mNew names:\n",
            "\u001b[36m•\u001b[39m `Observation` -> `Observation...1`\n",
            "\u001b[36m•\u001b[39m `Observation` -> `Observation...7`\n"
          ]
        }
      ]
    },
    {
      "cell_type": "markdown",
      "source": [
        "Now we can get rid of the duplicate column. Note that in these steps we are going to reassign the data frame to its existing name. This is key so that the changes are saved to the data frame."
      ],
      "metadata": {
        "id": "msJdL2jbqBsG"
      }
    },
    {
      "cell_type": "code",
      "source": [
        "combined_obs <- select(combined_obs, -Observation...7)\n",
        "combined_obs"
      ],
      "metadata": {
        "colab": {
          "base_uri": "https://localhost:8080/",
          "height": 349
        },
        "id": "c7sE_hv2p-u6",
        "outputId": "6e6db498-56ee-470d-a7fc-0a98fc6b936a"
      },
      "execution_count": 75,
      "outputs": [
        {
          "output_type": "display_data",
          "data": {
            "text/html": [
              "<table class=\"dataframe\">\n",
              "<caption>A data.frame: 8 × 7</caption>\n",
              "<thead>\n",
              "\t<tr><th scope=col>Observation...1</th><th scope=col>Date</th><th scope=col>Time</th><th scope=col>Start</th><th scope=col>Temperature_f</th><th scope=col>Weather</th><th scope=col>Total</th></tr>\n",
              "\t<tr><th scope=col>&lt;int&gt;</th><th scope=col>&lt;chr&gt;</th><th scope=col>&lt;chr&gt;</th><th scope=col>&lt;chr&gt;</th><th scope=col>&lt;int&gt;</th><th scope=col>&lt;chr&gt;</th><th scope=col>&lt;int&gt;</th></tr>\n",
              "</thead>\n",
              "<tbody>\n",
              "\t<tr><td>1</td><td>3/1/25</td><td>am</td><td>8:00 </td><td>33</td><td>rainy </td><td>26</td></tr>\n",
              "\t<tr><td>2</td><td>3/1/25</td><td>pm</td><td>15:00</td><td>36</td><td>cloudy</td><td>15</td></tr>\n",
              "\t<tr><td>3</td><td>3/2/25</td><td>am</td><td>8:00 </td><td>44</td><td>sunny </td><td>42</td></tr>\n",
              "\t<tr><td>4</td><td>3/2/25</td><td>pm</td><td>15:00</td><td>40</td><td>cloudy</td><td>26</td></tr>\n",
              "\t<tr><td>5</td><td>3/3/25</td><td>am</td><td>8:06 </td><td>46</td><td>sunny </td><td>44</td></tr>\n",
              "\t<tr><td>6</td><td>3/3/25</td><td>pm</td><td>15:00</td><td>42</td><td>cloudy</td><td> 6</td></tr>\n",
              "\t<tr><td>7</td><td>3/4/25</td><td>am</td><td>8:00 </td><td>39</td><td>sunny </td><td>39</td></tr>\n",
              "\t<tr><td>8</td><td>3/4/25</td><td>pm</td><td>14:28</td><td>35</td><td>rainy </td><td>28</td></tr>\n",
              "</tbody>\n",
              "</table>\n"
            ],
            "text/markdown": "\nA data.frame: 8 × 7\n\n| Observation...1 &lt;int&gt; | Date &lt;chr&gt; | Time &lt;chr&gt; | Start &lt;chr&gt; | Temperature_f &lt;int&gt; | Weather &lt;chr&gt; | Total &lt;int&gt; |\n|---|---|---|---|---|---|---|\n| 1 | 3/1/25 | am | 8:00  | 33 | rainy  | 26 |\n| 2 | 3/1/25 | pm | 15:00 | 36 | cloudy | 15 |\n| 3 | 3/2/25 | am | 8:00  | 44 | sunny  | 42 |\n| 4 | 3/2/25 | pm | 15:00 | 40 | cloudy | 26 |\n| 5 | 3/3/25 | am | 8:06  | 46 | sunny  | 44 |\n| 6 | 3/3/25 | pm | 15:00 | 42 | cloudy |  6 |\n| 7 | 3/4/25 | am | 8:00  | 39 | sunny  | 39 |\n| 8 | 3/4/25 | pm | 14:28 | 35 | rainy  | 28 |\n\n",
            "text/latex": "A data.frame: 8 × 7\n\\begin{tabular}{lllllll}\n Observation...1 & Date & Time & Start & Temperature\\_f & Weather & Total\\\\\n <int> & <chr> & <chr> & <chr> & <int> & <chr> & <int>\\\\\n\\hline\n\t 1 & 3/1/25 & am & 8:00  & 33 & rainy  & 26\\\\\n\t 2 & 3/1/25 & pm & 15:00 & 36 & cloudy & 15\\\\\n\t 3 & 3/2/25 & am & 8:00  & 44 & sunny  & 42\\\\\n\t 4 & 3/2/25 & pm & 15:00 & 40 & cloudy & 26\\\\\n\t 5 & 3/3/25 & am & 8:06  & 46 & sunny  & 44\\\\\n\t 6 & 3/3/25 & pm & 15:00 & 42 & cloudy &  6\\\\\n\t 7 & 3/4/25 & am & 8:00  & 39 & sunny  & 39\\\\\n\t 8 & 3/4/25 & pm & 14:28 & 35 & rainy  & 28\\\\\n\\end{tabular}\n",
            "text/plain": [
              "  Observation...1 Date   Time Start Temperature_f Weather Total\n",
              "1 1               3/1/25 am   8:00  33            rainy   26   \n",
              "2 2               3/1/25 pm   15:00 36            cloudy  15   \n",
              "3 3               3/2/25 am   8:00  44            sunny   42   \n",
              "4 4               3/2/25 pm   15:00 40            cloudy  26   \n",
              "5 5               3/3/25 am   8:06  46            sunny   44   \n",
              "6 6               3/3/25 pm   15:00 42            cloudy   6   \n",
              "7 7               3/4/25 am   8:00  39            sunny   39   \n",
              "8 8               3/4/25 pm   14:28 35            rainy   28   "
            ]
          },
          "metadata": {}
        }
      ]
    },
    {
      "cell_type": "code",
      "source": [
        "# And now we can rename the Observation column to get rid of the ...1.\n",
        "\n",
        "combined_obs <- rename(combined_obs, Observation = Observation...1)"
      ],
      "metadata": {
        "id": "qqfgql-6r5GJ"
      },
      "execution_count": 76,
      "outputs": []
    },
    {
      "cell_type": "code",
      "source": [
        "combined_obs"
      ],
      "metadata": {
        "colab": {
          "base_uri": "https://localhost:8080/",
          "height": 349
        },
        "id": "4aL7XMHH2_3N",
        "outputId": "4c3b46a2-0e3d-4cea-ca59-f8d60ad4580e"
      },
      "execution_count": 78,
      "outputs": [
        {
          "output_type": "display_data",
          "data": {
            "text/html": [
              "<table class=\"dataframe\">\n",
              "<caption>A data.frame: 8 × 7</caption>\n",
              "<thead>\n",
              "\t<tr><th scope=col>Observation</th><th scope=col>Date</th><th scope=col>Time</th><th scope=col>Start</th><th scope=col>Temperature_f</th><th scope=col>Weather</th><th scope=col>Total</th></tr>\n",
              "\t<tr><th scope=col>&lt;int&gt;</th><th scope=col>&lt;chr&gt;</th><th scope=col>&lt;chr&gt;</th><th scope=col>&lt;chr&gt;</th><th scope=col>&lt;int&gt;</th><th scope=col>&lt;chr&gt;</th><th scope=col>&lt;int&gt;</th></tr>\n",
              "</thead>\n",
              "<tbody>\n",
              "\t<tr><td>1</td><td>3/1/25</td><td>am</td><td>8:00 </td><td>33</td><td>rainy </td><td>26</td></tr>\n",
              "\t<tr><td>2</td><td>3/1/25</td><td>pm</td><td>15:00</td><td>36</td><td>cloudy</td><td>15</td></tr>\n",
              "\t<tr><td>3</td><td>3/2/25</td><td>am</td><td>8:00 </td><td>44</td><td>sunny </td><td>42</td></tr>\n",
              "\t<tr><td>4</td><td>3/2/25</td><td>pm</td><td>15:00</td><td>40</td><td>cloudy</td><td>26</td></tr>\n",
              "\t<tr><td>5</td><td>3/3/25</td><td>am</td><td>8:06 </td><td>46</td><td>sunny </td><td>44</td></tr>\n",
              "\t<tr><td>6</td><td>3/3/25</td><td>pm</td><td>15:00</td><td>42</td><td>cloudy</td><td> 6</td></tr>\n",
              "\t<tr><td>7</td><td>3/4/25</td><td>am</td><td>8:00 </td><td>39</td><td>sunny </td><td>39</td></tr>\n",
              "\t<tr><td>8</td><td>3/4/25</td><td>pm</td><td>14:28</td><td>35</td><td>rainy </td><td>28</td></tr>\n",
              "</tbody>\n",
              "</table>\n"
            ],
            "text/markdown": "\nA data.frame: 8 × 7\n\n| Observation &lt;int&gt; | Date &lt;chr&gt; | Time &lt;chr&gt; | Start &lt;chr&gt; | Temperature_f &lt;int&gt; | Weather &lt;chr&gt; | Total &lt;int&gt; |\n|---|---|---|---|---|---|---|\n| 1 | 3/1/25 | am | 8:00  | 33 | rainy  | 26 |\n| 2 | 3/1/25 | pm | 15:00 | 36 | cloudy | 15 |\n| 3 | 3/2/25 | am | 8:00  | 44 | sunny  | 42 |\n| 4 | 3/2/25 | pm | 15:00 | 40 | cloudy | 26 |\n| 5 | 3/3/25 | am | 8:06  | 46 | sunny  | 44 |\n| 6 | 3/3/25 | pm | 15:00 | 42 | cloudy |  6 |\n| 7 | 3/4/25 | am | 8:00  | 39 | sunny  | 39 |\n| 8 | 3/4/25 | pm | 14:28 | 35 | rainy  | 28 |\n\n",
            "text/latex": "A data.frame: 8 × 7\n\\begin{tabular}{lllllll}\n Observation & Date & Time & Start & Temperature\\_f & Weather & Total\\\\\n <int> & <chr> & <chr> & <chr> & <int> & <chr> & <int>\\\\\n\\hline\n\t 1 & 3/1/25 & am & 8:00  & 33 & rainy  & 26\\\\\n\t 2 & 3/1/25 & pm & 15:00 & 36 & cloudy & 15\\\\\n\t 3 & 3/2/25 & am & 8:00  & 44 & sunny  & 42\\\\\n\t 4 & 3/2/25 & pm & 15:00 & 40 & cloudy & 26\\\\\n\t 5 & 3/3/25 & am & 8:06  & 46 & sunny  & 44\\\\\n\t 6 & 3/3/25 & pm & 15:00 & 42 & cloudy &  6\\\\\n\t 7 & 3/4/25 & am & 8:00  & 39 & sunny  & 39\\\\\n\t 8 & 3/4/25 & pm & 14:28 & 35 & rainy  & 28\\\\\n\\end{tabular}\n",
            "text/plain": [
              "  Observation Date   Time Start Temperature_f Weather Total\n",
              "1 1           3/1/25 am   8:00  33            rainy   26   \n",
              "2 2           3/1/25 pm   15:00 36            cloudy  15   \n",
              "3 3           3/2/25 am   8:00  44            sunny   42   \n",
              "4 4           3/2/25 pm   15:00 40            cloudy  26   \n",
              "5 5           3/3/25 am   8:06  46            sunny   44   \n",
              "6 6           3/3/25 pm   15:00 42            cloudy   6   \n",
              "7 7           3/4/25 am   8:00  39            sunny   39   \n",
              "8 8           3/4/25 pm   14:28 35            rainy   28   "
            ]
          },
          "metadata": {}
        }
      ]
    },
    {
      "cell_type": "markdown",
      "source": [
        "Take a look at the cell above and notice the writing in green. This is called a **comment** and is created by using the hashtag (#) symbol. Comments are a way to write notes to yourself or others reading the code. In a Google Colab notebook, you also have the option of adding text cells, but that is not available in some programs."
      ],
      "metadata": {
        "id": "ADham2QwsV5J"
      }
    },
    {
      "cell_type": "markdown",
      "source": [
        "We are almost done! You can imagine that you might want to have access to this combined_obs data frame that we made. Perhaps you want to open it in Excel or send it to a classmate. We can use **write.csv** and any file name we choose."
      ],
      "metadata": {
        "id": "0ztwcHfaszBJ"
      }
    },
    {
      "cell_type": "code",
      "source": [
        "write.csv(combined_obs, file='output.csv')"
      ],
      "metadata": {
        "id": "HUl7WCMstWri"
      },
      "execution_count": 77,
      "outputs": []
    },
    {
      "cell_type": "markdown",
      "source": [
        "Once you run the command above, look in the file directory (bottom of the four icons at top left) under **Content**. You should now see a file called output.csv.\n",
        "\n",
        "Double-click on this file to open a preview in a new pane on the right side. Click the three dots and select **Download** to save the csv file to your computer."
      ],
      "metadata": {
        "id": "JUjGYce8t7yx"
      }
    },
    {
      "cell_type": "markdown",
      "source": [
        "# Wrapping Up\n",
        "Great work! You've now learned how to:\n",
        "\n",
        "*   Open and save a Google Colab notebook\n",
        "*   Create code and text cells, write code, and run code cells\n",
        "*   Use assignment statements to name values and objects\n",
        "*   Organize information using the tiny data format\n",
        "*   Import and export data as .csv files\n",
        "*   Explore datasets with the glimpse and summarise commands\n",
        "*   Combine two tables together\n",
        "*   Delete and rename columns\n",
        "\n",
        "In the next notebook, you will learn how we can easily and quickly calculate many kinds of statistics to describe a dataset. We will also learn to make  different kinds of graphs. Run the cell below for a sneak peek. Note that we can naow make this graph because we combined information from the two datasets we worked with in this lesson."
      ],
      "metadata": {
        "id": "PO0LX8_Et9ec"
      }
    },
    {
      "cell_type": "code",
      "source": [
        "# This code creates the basic graph\n",
        "by_temp <-ggplot(combined_obs, aes(x = Temperature_f, y = Total, colour = Time)) +\n",
        "  geom_point(size = 5) +\n",
        "  theme_bw() +\n",
        "  xlab (\"Temperature\") +\n",
        "  ylab (\"Total Birds Observed\")\n",
        "\n",
        "# This changes some style elements to make it easier to interpret.\n",
        "by_temp + theme(axis.text = element_text(size = 15, angle=0)) +\n",
        "  theme(axis.title = element_text(size = 15, face = \"bold\")) +\n",
        "  theme(legend.key.size = unit(1, 'cm'), # Change legend key size\n",
        "    legend.title = element_text(size = 15),\n",
        "    legend.text = element_text(size = 15))"
      ],
      "metadata": {
        "colab": {
          "base_uri": "https://localhost:8080/",
          "height": 437
        },
        "id": "gLJr8CcU1H9L",
        "outputId": "bb5712e2-1e73-436b-8fdd-59d1c86b2905"
      },
      "execution_count": 85,
      "outputs": [
        {
          "output_type": "display_data",
          "data": {
            "text/plain": [
              "plot without title"
            ],
            "image/png": "[encoded data removed]"
          },
          "metadata": {
            "image/png": {
              "width": 420,
              "height": 420
            }
          }
        }
      ]
    },
    {
      "cell_type": "markdown",
      "source": [
        "# Acknowledgements:\n",
        "This notebook was created by Dr. Kara Nuss at Northeastern Illinois University.\n",
        "\n",
        "\n",
        "Many of the examples are based on material from the book Getting Started with R: An Introduction for Biologists, 2nd edition, by Bekerman, Childs, and Petchey.\n",
        "\n",
        "\n",
        "This project was supporeted by NCI (National Cancer Institute) Administrative Data Science Supplement for Northeastern Illinois University: U54 Chicago Cancer Health Equity Collaborative (CHEC): Enhancing Data Science Capacity at Northeastern Illinois University.\n",
        "\n",
        "\n",
        "Version 1 - Spring 2025"
      ],
      "metadata": {
        "id": "iTSUYL7V6z25"
      }
    }
  ]
}