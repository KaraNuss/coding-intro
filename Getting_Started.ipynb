{
  "nbformat": 4,
  "nbformat_minor": 0,
  "metadata": {
    "colab": {
      "provenance": [],
      "toc_visible": true
    },
    "kernelspec": {
      "name": "ir",
      "display_name": "R"
    },
    "language_info": {
      "name": "R"
    }
  },
  "cells": [
    {
      "cell_type": "markdown",
      "source": [
        "## Part 1: First Steps"
      ],
      "metadata": {
        "id": "cqgAfA-Sto4V"
      }
    },
    {
      "cell_type": "markdown",
      "source": [
        "We will use the Google Colab Notebooks to start explore how we can use computer coding to analyze data. We will work with the programming language R, which is used extensively by biologists for statistics and data visualizations.\n",
        "\n",
        "Any notebook I share will already be set up for R. If you create your own notebook, you must change this manually. To do so, go to the **Runtime** menu at the top of this screen, select **Change runtime type** and use the dropdown menu to switch from Python 3 to **R**."
      ],
      "metadata": {
        "id": "F5oLXpX_Uno0"
      }
    },
    {
      "cell_type": "markdown",
      "source": [
        "The cell below makes available all of the packages we need. **Run** the cell by clicking the **Play arrow** or by holding down **Control/Enter (PC)** or **Command/Enter(Mac)**.\n",
        "\n",
        "You may get a warning that the Notebook was not authored by Google but by another user (someone with an neiu.edu email address). Click **Run anyway** to continue."
      ],
      "metadata": {
        "id": "Ofd87en9T2sc"
      }
    },
    {
      "cell_type": "code",
      "execution_count": 13,
      "metadata": {
        "id": "OBVlKrC_TsAJ"
      },
      "outputs": [],
      "source": [
        "library(tidyverse)"
      ]
    },
    {
      "cell_type": "markdown",
      "source": [
        "We want to import some data that we can begin to analyze. The code below will access a data file I posted to a website. Soon, you will learn how to upload your own data files from Excel. Note that you won't see any **output** once the cell has run."
      ],
      "metadata": {
        "id": "7T-cXUUfVJM8"
      }
    },
    {
      "cell_type": "code",
      "source": [
        "birds <- read.csv(url(\"https://raw.githubusercontent.com/KaraNuss/coding-intro/refs/heads/main/bird_observations.csv\"))"
      ],
      "metadata": {
        "id": "Zit6mcHQreu1"
      },
      "execution_count": 15,
      "outputs": []
    },
    {
      "cell_type": "markdown",
      "source": [
        "In the cell above, we brought in our dataset and saved it under the name birds. You can now create a new cell for Code, by clicking on **+ Code** at the top right. Type birds (make sure not to capitalize) and **run** the cell to see our dataset."
      ],
      "metadata": {
        "id": "2tBfyXlmWRB2"
      }
    },
    {
      "cell_type": "code",
      "source": [
        "# Make sure to cut out the code line below in the student version."
      ],
      "metadata": {
        "id": "KahTamPOaSxl"
      },
      "execution_count": null,
      "outputs": []
    },
    {
      "cell_type": "code",
      "source": [
        "birds"
      ],
      "metadata": {
        "colab": {
          "base_uri": "https://localhost:8080/",
          "height": 412
        },
        "id": "4obKvRj5Vwnd",
        "outputId": "574e9d8a-879f-4f6e-f66e-cf48fcecc57d"
      },
      "execution_count": 16,
      "outputs": [
        {
          "output_type": "display_data",
          "data": {
            "text/html": [
              "<table class=\"dataframe\">\n",
              "<caption>A data.frame: 10 × 4</caption>\n",
              "<thead>\n",
              "\t<tr><th scope=col>Day</th><th scope=col>Time</th><th scope=col>Woodpeckers</th><th scope=col>BlueJays</th></tr>\n",
              "\t<tr><th scope=col>&lt;int&gt;</th><th scope=col>&lt;chr&gt;</th><th scope=col>&lt;int&gt;</th><th scope=col>&lt;int&gt;</th></tr>\n",
              "</thead>\n",
              "<tbody>\n",
              "\t<tr><td>1</td><td>morning  </td><td>6</td><td>2</td></tr>\n",
              "\t<tr><td>1</td><td>afternoon</td><td>3</td><td>2</td></tr>\n",
              "\t<tr><td>2</td><td>morning  </td><td>8</td><td>4</td></tr>\n",
              "\t<tr><td>2</td><td>afternoon</td><td>5</td><td>6</td></tr>\n",
              "\t<tr><td>3</td><td>morning  </td><td>2</td><td>3</td></tr>\n",
              "\t<tr><td>3</td><td>afternoon</td><td>0</td><td>7</td></tr>\n",
              "\t<tr><td>4</td><td>morning  </td><td>4</td><td>2</td></tr>\n",
              "\t<tr><td>4</td><td>afternoon</td><td>6</td><td>5</td></tr>\n",
              "\t<tr><td>5</td><td>morning  </td><td>9</td><td>1</td></tr>\n",
              "\t<tr><td>5</td><td>afternoon</td><td>5</td><td>2</td></tr>\n",
              "</tbody>\n",
              "</table>\n"
            ],
            "text/markdown": "\nA data.frame: 10 × 4\n\n| Day &lt;int&gt; | Time &lt;chr&gt; | Woodpeckers &lt;int&gt; | BlueJays &lt;int&gt; |\n|---|---|---|---|\n| 1 | morning   | 6 | 2 |\n| 1 | afternoon | 3 | 2 |\n| 2 | morning   | 8 | 4 |\n| 2 | afternoon | 5 | 6 |\n| 3 | morning   | 2 | 3 |\n| 3 | afternoon | 0 | 7 |\n| 4 | morning   | 4 | 2 |\n| 4 | afternoon | 6 | 5 |\n| 5 | morning   | 9 | 1 |\n| 5 | afternoon | 5 | 2 |\n\n",
            "text/latex": "A data.frame: 10 × 4\n\\begin{tabular}{llll}\n Day & Time & Woodpeckers & BlueJays\\\\\n <int> & <chr> & <int> & <int>\\\\\n\\hline\n\t 1 & morning   & 6 & 2\\\\\n\t 1 & afternoon & 3 & 2\\\\\n\t 2 & morning   & 8 & 4\\\\\n\t 2 & afternoon & 5 & 6\\\\\n\t 3 & morning   & 2 & 3\\\\\n\t 3 & afternoon & 0 & 7\\\\\n\t 4 & morning   & 4 & 2\\\\\n\t 4 & afternoon & 6 & 5\\\\\n\t 5 & morning   & 9 & 1\\\\\n\t 5 & afternoon & 5 & 2\\\\\n\\end{tabular}\n",
            "text/plain": [
              "   Day Time      Woodpeckers BlueJays\n",
              "1  1   morning   6           2       \n",
              "2  1   afternoon 3           2       \n",
              "3  2   morning   8           4       \n",
              "4  2   afternoon 5           6       \n",
              "5  3   morning   2           3       \n",
              "6  3   afternoon 0           7       \n",
              "7  4   morning   4           2       \n",
              "8  4   afternoon 6           5       \n",
              "9  5   morning   9           1       \n",
              "10 5   afternoon 5           2       "
            ]
          },
          "metadata": {}
        }
      ]
    },
    {
      "cell_type": "markdown",
      "source": [
        "Wow, that's cool! This example dataset is pretty simple and small. Often we will have large and complex datasets where we can'st see everything at once. Luckily, there are some great tools to give us an overview of our data."
      ],
      "metadata": {
        "id": "wrA-mPMXW_xX"
      }
    },
    {
      "cell_type": "code",
      "source": [
        "glimpse(birds)"
      ],
      "metadata": {
        "colab": {
          "base_uri": "https://localhost:8080/"
        },
        "id": "AzaQTY1sWu9H",
        "outputId": "9072264a-d2cb-4abd-e9f1-c501e78791ac"
      },
      "execution_count": 17,
      "outputs": [
        {
          "output_type": "stream",
          "name": "stdout",
          "text": [
            "Rows: 10\n",
            "Columns: 4\n",
            "$ Day         \u001b[3m\u001b[90m<int>\u001b[39m\u001b[23m 1, 1, 2, 2, 3, 3, 4, 4, 5, 5\n",
            "$ Time        \u001b[3m\u001b[90m<chr>\u001b[39m\u001b[23m \"morning\", \"afternoon\", \"morning\", \"afternoon\", \"morning\",…\n",
            "$ Woodpeckers \u001b[3m\u001b[90m<int>\u001b[39m\u001b[23m 6, 3, 8, 5, 2, 0, 4, 6, 9, 5\n",
            "$ BlueJays    \u001b[3m\u001b[90m<int>\u001b[39m\u001b[23m 2, 2, 4, 6, 3, 7, 2, 5, 1, 2\n"
          ]
        }
      ]
    },
    {
      "cell_type": "markdown",
      "source": [
        "# Question 1\n",
        "Run the cell above and then describe what the command **glimpse** does. What information does it give us? (2 points)\n",
        "\n",
        "*Replace this text with your answer.*\n",
        "\n",
        "\n"
      ],
      "metadata": {
        "id": "lfeKjzWGsSIh"
      }
    },
    {
      "cell_type": "markdown",
      "source": [
        "## Part 2: Descriptive Statistics"
      ],
      "metadata": {
        "id": "1zfemw3It8aK"
      }
    },
    {
      "cell_type": "code",
      "source": [
        "summary(birds)"
      ],
      "metadata": {
        "colab": {
          "base_uri": "https://localhost:8080/",
          "height": 139
        },
        "id": "hgck55iMueZ7",
        "outputId": "85723690-2cac-4685-c81e-d7f9a6c9706b"
      },
      "execution_count": 19,
      "outputs": [
        {
          "output_type": "display_data",
          "data": {
            "text/plain": [
              "      Day        Time            Woodpeckers      BlueJays   \n",
              " Min.   :1   Length:10          Min.   :0.00   Min.   :1.00  \n",
              " 1st Qu.:2   Class :character   1st Qu.:3.25   1st Qu.:2.00  \n",
              " Median :3   Mode  :character   Median :5.00   Median :2.50  \n",
              " Mean   :3                      Mean   :4.80   Mean   :3.40  \n",
              " 3rd Qu.:4                      3rd Qu.:6.00   3rd Qu.:4.75  \n",
              " Max.   :5                      Max.   :9.00   Max.   :7.00  "
            ]
          },
          "metadata": {}
        }
      ]
    },
    {
      "cell_type": "code",
      "source": [
        "sd(birds$Woodpeckers)"
      ],
      "metadata": {
        "colab": {
          "base_uri": "https://localhost:8080/",
          "height": 34
        },
        "id": "skiU7dxsvQ-u",
        "outputId": "4d4177c0-e8ec-477a-f9b5-f2529b25d46c"
      },
      "execution_count": 20,
      "outputs": [
        {
          "output_type": "display_data",
          "data": {
            "text/html": [
              "2.69979423084221"
            ],
            "text/markdown": "2.69979423084221",
            "text/latex": "2.69979423084221",
            "text/plain": [
              "[1] 2.699794"
            ]
          },
          "metadata": {}
        }
      ]
    },
    {
      "cell_type": "code",
      "source": [
        "n <- length(birds$Woodpeckers)"
      ],
      "metadata": {
        "id": "NfRnpTMVv4Se"
      },
      "execution_count": 24,
      "outputs": []
    },
    {
      "cell_type": "code",
      "source": [
        "SE_woodpeckers = sd(birds$Woodpeckers)/n"
      ],
      "metadata": {
        "id": "RaLsyGQmwcrX"
      },
      "execution_count": 26,
      "outputs": []
    },
    {
      "cell_type": "code",
      "source": [
        "mean(birds$Woodpeckers)"
      ],
      "metadata": {
        "colab": {
          "base_uri": "https://localhost:8080/",
          "height": 34
        },
        "id": "cOgqOUlSwuQ6",
        "outputId": "13b7e2ca-02ec-473b-b4c9-d064f4695935"
      },
      "execution_count": 27,
      "outputs": [
        {
          "output_type": "display_data",
          "data": {
            "text/html": [
              "4.8"
            ],
            "text/markdown": "4.8",
            "text/latex": "4.8",
            "text/plain": [
              "[1] 4.8"
            ]
          },
          "metadata": {}
        }
      ]
    },
    {
      "cell_type": "code",
      "source": [
        "select(birds, Woodpeckers, BlueJays)"
      ],
      "metadata": {
        "colab": {
          "base_uri": "https://localhost:8080/",
          "height": 412
        },
        "id": "Pxlmr96HwxvZ",
        "outputId": "d4ac50eb-205c-4a36-e95a-d27c8b56a5af"
      },
      "execution_count": 28,
      "outputs": [
        {
          "output_type": "display_data",
          "data": {
            "text/html": [
              "<table class=\"dataframe\">\n",
              "<caption>A data.frame: 10 × 2</caption>\n",
              "<thead>\n",
              "\t<tr><th scope=col>Woodpeckers</th><th scope=col>BlueJays</th></tr>\n",
              "\t<tr><th scope=col>&lt;int&gt;</th><th scope=col>&lt;int&gt;</th></tr>\n",
              "</thead>\n",
              "<tbody>\n",
              "\t<tr><td>6</td><td>2</td></tr>\n",
              "\t<tr><td>3</td><td>2</td></tr>\n",
              "\t<tr><td>8</td><td>4</td></tr>\n",
              "\t<tr><td>5</td><td>6</td></tr>\n",
              "\t<tr><td>2</td><td>3</td></tr>\n",
              "\t<tr><td>0</td><td>7</td></tr>\n",
              "\t<tr><td>4</td><td>2</td></tr>\n",
              "\t<tr><td>6</td><td>5</td></tr>\n",
              "\t<tr><td>9</td><td>1</td></tr>\n",
              "\t<tr><td>5</td><td>2</td></tr>\n",
              "</tbody>\n",
              "</table>\n"
            ],
            "text/markdown": "\nA data.frame: 10 × 2\n\n| Woodpeckers &lt;int&gt; | BlueJays &lt;int&gt; |\n|---|---|\n| 6 | 2 |\n| 3 | 2 |\n| 8 | 4 |\n| 5 | 6 |\n| 2 | 3 |\n| 0 | 7 |\n| 4 | 2 |\n| 6 | 5 |\n| 9 | 1 |\n| 5 | 2 |\n\n",
            "text/latex": "A data.frame: 10 × 2\n\\begin{tabular}{ll}\n Woodpeckers & BlueJays\\\\\n <int> & <int>\\\\\n\\hline\n\t 6 & 2\\\\\n\t 3 & 2\\\\\n\t 8 & 4\\\\\n\t 5 & 6\\\\\n\t 2 & 3\\\\\n\t 0 & 7\\\\\n\t 4 & 2\\\\\n\t 6 & 5\\\\\n\t 9 & 1\\\\\n\t 5 & 2\\\\\n\\end{tabular}\n",
            "text/plain": [
              "   Woodpeckers BlueJays\n",
              "1  6           2       \n",
              "2  3           2       \n",
              "3  8           4       \n",
              "4  5           6       \n",
              "5  2           3       \n",
              "6  0           7       \n",
              "7  4           2       \n",
              "8  6           5       \n",
              "9  9           1       \n",
              "10 5           2       "
            ]
          },
          "metadata": {}
        }
      ]
    },
    {
      "cell_type": "code",
      "source": [
        "birds"
      ],
      "metadata": {
        "colab": {
          "base_uri": "https://localhost:8080/",
          "height": 412
        },
        "id": "v-DjWIJwxxMi",
        "outputId": "101dfd8b-ea0a-4ded-b724-fe77ef552ffb"
      },
      "execution_count": 29,
      "outputs": [
        {
          "output_type": "display_data",
          "data": {
            "text/html": [
              "<table class=\"dataframe\">\n",
              "<caption>A data.frame: 10 × 4</caption>\n",
              "<thead>\n",
              "\t<tr><th scope=col>Day</th><th scope=col>Time</th><th scope=col>Woodpeckers</th><th scope=col>BlueJays</th></tr>\n",
              "\t<tr><th scope=col>&lt;int&gt;</th><th scope=col>&lt;chr&gt;</th><th scope=col>&lt;int&gt;</th><th scope=col>&lt;int&gt;</th></tr>\n",
              "</thead>\n",
              "<tbody>\n",
              "\t<tr><td>1</td><td>morning  </td><td>6</td><td>2</td></tr>\n",
              "\t<tr><td>1</td><td>afternoon</td><td>3</td><td>2</td></tr>\n",
              "\t<tr><td>2</td><td>morning  </td><td>8</td><td>4</td></tr>\n",
              "\t<tr><td>2</td><td>afternoon</td><td>5</td><td>6</td></tr>\n",
              "\t<tr><td>3</td><td>morning  </td><td>2</td><td>3</td></tr>\n",
              "\t<tr><td>3</td><td>afternoon</td><td>0</td><td>7</td></tr>\n",
              "\t<tr><td>4</td><td>morning  </td><td>4</td><td>2</td></tr>\n",
              "\t<tr><td>4</td><td>afternoon</td><td>6</td><td>5</td></tr>\n",
              "\t<tr><td>5</td><td>morning  </td><td>9</td><td>1</td></tr>\n",
              "\t<tr><td>5</td><td>afternoon</td><td>5</td><td>2</td></tr>\n",
              "</tbody>\n",
              "</table>\n"
            ],
            "text/markdown": "\nA data.frame: 10 × 4\n\n| Day &lt;int&gt; | Time &lt;chr&gt; | Woodpeckers &lt;int&gt; | BlueJays &lt;int&gt; |\n|---|---|---|---|\n| 1 | morning   | 6 | 2 |\n| 1 | afternoon | 3 | 2 |\n| 2 | morning   | 8 | 4 |\n| 2 | afternoon | 5 | 6 |\n| 3 | morning   | 2 | 3 |\n| 3 | afternoon | 0 | 7 |\n| 4 | morning   | 4 | 2 |\n| 4 | afternoon | 6 | 5 |\n| 5 | morning   | 9 | 1 |\n| 5 | afternoon | 5 | 2 |\n\n",
            "text/latex": "A data.frame: 10 × 4\n\\begin{tabular}{llll}\n Day & Time & Woodpeckers & BlueJays\\\\\n <int> & <chr> & <int> & <int>\\\\\n\\hline\n\t 1 & morning   & 6 & 2\\\\\n\t 1 & afternoon & 3 & 2\\\\\n\t 2 & morning   & 8 & 4\\\\\n\t 2 & afternoon & 5 & 6\\\\\n\t 3 & morning   & 2 & 3\\\\\n\t 3 & afternoon & 0 & 7\\\\\n\t 4 & morning   & 4 & 2\\\\\n\t 4 & afternoon & 6 & 5\\\\\n\t 5 & morning   & 9 & 1\\\\\n\t 5 & afternoon & 5 & 2\\\\\n\\end{tabular}\n",
            "text/plain": [
              "   Day Time      Woodpeckers BlueJays\n",
              "1  1   morning   6           2       \n",
              "2  1   afternoon 3           2       \n",
              "3  2   morning   8           4       \n",
              "4  2   afternoon 5           6       \n",
              "5  3   morning   2           3       \n",
              "6  3   afternoon 0           7       \n",
              "7  4   morning   4           2       \n",
              "8  4   afternoon 6           5       \n",
              "9  5   morning   9           1       \n",
              "10 5   afternoon 5           2       "
            ]
          },
          "metadata": {}
        }
      ]
    }
  ]
}