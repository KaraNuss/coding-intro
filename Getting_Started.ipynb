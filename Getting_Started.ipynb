{
  "nbformat": 4,
  "nbformat_minor": 0,
  "metadata": {
    "colab": {
      "provenance": [],
      "authorship_tag": "ABX9TyPhu3ssCc/joqO7xFSNzz9P",
      "include_colab_link": true
    },
    "kernelspec": {
      "name": "ir",
      "display_name": "R"
    },
    "language_info": {
      "name": "R"
    }
  },
  "cells": [
    {
      "cell_type": "markdown",
      "metadata": {
        "id": "view-in-github",
        "colab_type": "text"
      },
      "source": [
        "<a href=\"https://colab.research.google.com/github/KaraNuss/coding-intro/blob/main/Getting_Started.ipynb\" target=\"_parent\"><img src=\"https://colab.research.google.com/assets/colab-badge.svg\" alt=\"Open In Colab\"/></a>"
      ]
    },
    {
      "cell_type": "markdown",
      "source": [
        "## Part 1: First Steps"
      ],
      "metadata": {
        "id": "cqgAfA-Sto4V"
      }
    },
    {
      "cell_type": "markdown",
      "source": [
        "We will use the Google Colab Notebooks to start explore how we can use computer coding to analyze data. We will work with the programming language R, which is used extensively by biologists for statistics and data visualizations.\n",
        "\n",
        "Any notebook I share will already be set up for R. If you create your own notebook, you must change this manually. To do so, go to the **Runtime** menu at the top of this screen, select **Change runtime type** and use the dropdown menu to switch from Python 3 to **R**."
      ],
      "metadata": {
        "id": "F5oLXpX_Uno0"
      }
    },
    {
      "cell_type": "markdown",
      "source": [
        "The cell below makes available all of the packages we need. **Run** the cell by clicking the **Play arrow** or by holding down **Control/Enter (PC)** or **Command/Enter(Mac)**.\n",
        "\n",
        "You may get a warning that the Notebook was not authored by Google but by another user (someone with an neiu.edu email address). Click **Run anyway** to continue."
      ],
      "metadata": {
        "id": "Ofd87en9T2sc"
      }
    },
    {
      "cell_type": "code",
      "execution_count": 1,
      "metadata": {
        "colab": {
          "base_uri": "https://localhost:8080/"
        },
        "id": "OBVlKrC_TsAJ",
        "outputId": "41742594-30fa-4103-c22b-c1728b6a46e5"
      },
      "outputs": [
        {
          "output_type": "stream",
          "name": "stderr",
          "text": [
            "── \u001b[1mAttaching core tidyverse packages\u001b[22m ──────────────────────── tidyverse 2.0.0 ──\n",
            "\u001b[32m✔\u001b[39m \u001b[34mdplyr    \u001b[39m 1.1.4     \u001b[32m✔\u001b[39m \u001b[34mreadr    \u001b[39m 2.1.5\n",
            "\u001b[32m✔\u001b[39m \u001b[34mforcats  \u001b[39m 1.0.0     \u001b[32m✔\u001b[39m \u001b[34mstringr  \u001b[39m 1.5.1\n",
            "\u001b[32m✔\u001b[39m \u001b[34mggplot2  \u001b[39m 3.5.1     \u001b[32m✔\u001b[39m \u001b[34mtibble   \u001b[39m 3.2.1\n",
            "\u001b[32m✔\u001b[39m \u001b[34mlubridate\u001b[39m 1.9.4     \u001b[32m✔\u001b[39m \u001b[34mtidyr    \u001b[39m 1.3.1\n",
            "\u001b[32m✔\u001b[39m \u001b[34mpurrr    \u001b[39m 1.0.2     \n",
            "── \u001b[1mConflicts\u001b[22m ────────────────────────────────────────── tidyverse_conflicts() ──\n",
            "\u001b[31m✖\u001b[39m \u001b[34mdplyr\u001b[39m::\u001b[32mfilter()\u001b[39m masks \u001b[34mstats\u001b[39m::filter()\n",
            "\u001b[31m✖\u001b[39m \u001b[34mdplyr\u001b[39m::\u001b[32mlag()\u001b[39m    masks \u001b[34mstats\u001b[39m::lag()\n",
            "\u001b[36mℹ\u001b[39m Use the conflicted package (\u001b[3m\u001b[34m<http://conflicted.r-lib.org/>\u001b[39m\u001b[23m) to force all conflicts to become errors\n"
          ]
        }
      ],
      "source": [
        "library(tidyverse)"
      ]
    },
    {
      "cell_type": "markdown",
      "source": [
        "We want to import some data that we can begin to analyze. The code below will access a data file I posted to a website. Soon, you will learn how to upload your own data files from Excel. Note that you won't see any **output** once the cell has run."
      ],
      "metadata": {
        "id": "7T-cXUUfVJM8"
      }
    },
    {
      "cell_type": "code",
      "source": [
        "birds <- read.csv(url(\"https://raw.githubusercontent.com/KaraNuss/coding-intro/refs/heads/main/bird_observations.csv\"))"
      ],
      "metadata": {
        "id": "Zit6mcHQreu1"
      },
      "execution_count": 2,
      "outputs": []
    },
    {
      "cell_type": "markdown",
      "source": [
        "In the cell above, we brought in our dataset and saved it under the name birds. You can now create a new cell for Code, by clicking on **+ Code** at the top right. Type birds (make sure not to capitalize) and **run** the cell to see our dataset."
      ],
      "metadata": {
        "id": "2tBfyXlmWRB2"
      }
    },
    {
      "cell_type": "code",
      "source": [
        "# Make sure to cut out the code line below in the student version."
      ],
      "metadata": {
        "id": "KahTamPOaSxl"
      },
      "execution_count": null,
      "outputs": []
    },
    {
      "cell_type": "code",
      "source": [
        "birds"
      ],
      "metadata": {
        "colab": {
          "base_uri": "https://localhost:8080/",
          "height": 412
        },
        "id": "4obKvRj5Vwnd",
        "outputId": "61cf52e1-ff3b-4e38-ff51-90012782660d"
      },
      "execution_count": 3,
      "outputs": [
        {
          "output_type": "display_data",
          "data": {
            "text/html": [
              "<table class=\"dataframe\">\n",
              "<caption>A data.frame: 10 × 4</caption>\n",
              "<thead>\n",
              "\t<tr><th scope=col>Day</th><th scope=col>Time</th><th scope=col>Woodpeckers</th><th scope=col>BlueJays</th></tr>\n",
              "\t<tr><th scope=col>&lt;int&gt;</th><th scope=col>&lt;chr&gt;</th><th scope=col>&lt;int&gt;</th><th scope=col>&lt;int&gt;</th></tr>\n",
              "</thead>\n",
              "<tbody>\n",
              "\t<tr><td>1</td><td>morning  </td><td>6</td><td>2</td></tr>\n",
              "\t<tr><td>1</td><td>afternoon</td><td>3</td><td>2</td></tr>\n",
              "\t<tr><td>2</td><td>morning  </td><td>8</td><td>4</td></tr>\n",
              "\t<tr><td>2</td><td>afternoon</td><td>5</td><td>6</td></tr>\n",
              "\t<tr><td>3</td><td>morning  </td><td>2</td><td>3</td></tr>\n",
              "\t<tr><td>3</td><td>afternoon</td><td>0</td><td>7</td></tr>\n",
              "\t<tr><td>4</td><td>morning  </td><td>4</td><td>2</td></tr>\n",
              "\t<tr><td>4</td><td>afternoon</td><td>6</td><td>8</td></tr>\n",
              "\t<tr><td>5</td><td>morning  </td><td>9</td><td>1</td></tr>\n",
              "\t<tr><td>5</td><td>afternoon</td><td>5</td><td>2</td></tr>\n",
              "</tbody>\n",
              "</table>\n"
            ],
            "text/markdown": "\nA data.frame: 10 × 4\n\n| Day &lt;int&gt; | Time &lt;chr&gt; | Woodpeckers &lt;int&gt; | BlueJays &lt;int&gt; |\n|---|---|---|---|\n| 1 | morning   | 6 | 2 |\n| 1 | afternoon | 3 | 2 |\n| 2 | morning   | 8 | 4 |\n| 2 | afternoon | 5 | 6 |\n| 3 | morning   | 2 | 3 |\n| 3 | afternoon | 0 | 7 |\n| 4 | morning   | 4 | 2 |\n| 4 | afternoon | 6 | 8 |\n| 5 | morning   | 9 | 1 |\n| 5 | afternoon | 5 | 2 |\n\n",
            "text/latex": "A data.frame: 10 × 4\n\\begin{tabular}{llll}\n Day & Time & Woodpeckers & BlueJays\\\\\n <int> & <chr> & <int> & <int>\\\\\n\\hline\n\t 1 & morning   & 6 & 2\\\\\n\t 1 & afternoon & 3 & 2\\\\\n\t 2 & morning   & 8 & 4\\\\\n\t 2 & afternoon & 5 & 6\\\\\n\t 3 & morning   & 2 & 3\\\\\n\t 3 & afternoon & 0 & 7\\\\\n\t 4 & morning   & 4 & 2\\\\\n\t 4 & afternoon & 6 & 8\\\\\n\t 5 & morning   & 9 & 1\\\\\n\t 5 & afternoon & 5 & 2\\\\\n\\end{tabular}\n",
            "text/plain": [
              "   Day Time      Woodpeckers BlueJays\n",
              "1  1   morning   6           2       \n",
              "2  1   afternoon 3           2       \n",
              "3  2   morning   8           4       \n",
              "4  2   afternoon 5           6       \n",
              "5  3   morning   2           3       \n",
              "6  3   afternoon 0           7       \n",
              "7  4   morning   4           2       \n",
              "8  4   afternoon 6           8       \n",
              "9  5   morning   9           1       \n",
              "10 5   afternoon 5           2       "
            ]
          },
          "metadata": {}
        }
      ]
    },
    {
      "cell_type": "markdown",
      "source": [
        "Wow, that's cool! This example dataset is pretty simple and small. Often we will have large and complex datasets where we can'st see everything at once. Luckily, there are some great tools to give us an overview of our data."
      ],
      "metadata": {
        "id": "wrA-mPMXW_xX"
      }
    },
    {
      "cell_type": "code",
      "source": [
        "glimpse(birds)"
      ],
      "metadata": {
        "colab": {
          "base_uri": "https://localhost:8080/"
        },
        "id": "AzaQTY1sWu9H",
        "outputId": "4e1850a2-ad9c-4a4e-f344-ea4a64f26b0c"
      },
      "execution_count": 4,
      "outputs": [
        {
          "output_type": "stream",
          "name": "stdout",
          "text": [
            "Rows: 10\n",
            "Columns: 4\n",
            "$ Day         \u001b[3m\u001b[90m<int>\u001b[39m\u001b[23m 1, 1, 2, 2, 3, 3, 4, 4, 5, 5\n",
            "$ Time        \u001b[3m\u001b[90m<chr>\u001b[39m\u001b[23m \"morning\", \"afternoon\", \"morning\", \"afternoon\", \"morning\",…\n",
            "$ Woodpeckers \u001b[3m\u001b[90m<int>\u001b[39m\u001b[23m 6, 3, 8, 5, 2, 0, 4, 6, 9, 5\n",
            "$ BlueJays    \u001b[3m\u001b[90m<int>\u001b[39m\u001b[23m 2, 2, 4, 6, 3, 7, 2, 8, 1, 2\n"
          ]
        }
      ]
    },
    {
      "cell_type": "markdown",
      "source": [
        "# Question 1\n",
        "Run the cell above and then describe what the command **glimpse** does. What information does it give us? (2 points)\n",
        "\n",
        "*Replace this text with your answer.*\n",
        "\n",
        "\n"
      ],
      "metadata": {
        "id": "lfeKjzWGsSIh"
      }
    },
    {
      "cell_type": "markdown",
      "source": [
        "## Part 2: Descriptive Statistics"
      ],
      "metadata": {
        "id": "1zfemw3It8aK"
      }
    },
    {
      "cell_type": "code",
      "source": [
        "summary(birds)"
      ],
      "metadata": {
        "colab": {
          "base_uri": "https://localhost:8080/",
          "height": 139
        },
        "id": "hgck55iMueZ7",
        "outputId": "593b9b12-6cd4-44e6-8d29-6541d0722654"
      },
      "execution_count": 5,
      "outputs": [
        {
          "output_type": "display_data",
          "data": {
            "text/plain": [
              "      Day        Time            Woodpeckers      BlueJays  \n",
              " Min.   :1   Length:10          Min.   :0.00   Min.   :1.0  \n",
              " 1st Qu.:2   Class :character   1st Qu.:3.25   1st Qu.:2.0  \n",
              " Median :3   Mode  :character   Median :5.00   Median :2.5  \n",
              " Mean   :3                      Mean   :4.80   Mean   :3.7  \n",
              " 3rd Qu.:4                      3rd Qu.:6.00   3rd Qu.:5.5  \n",
              " Max.   :5                      Max.   :9.00   Max.   :8.0  "
            ]
          },
          "metadata": {}
        }
      ]
    },
    {
      "cell_type": "code",
      "source": [
        "sd(birds$Woodpeckers)"
      ],
      "metadata": {
        "colab": {
          "base_uri": "https://localhost:8080/",
          "height": 34
        },
        "id": "skiU7dxsvQ-u",
        "outputId": "6524a474-e8c5-430e-e937-781588c1dca4"
      },
      "execution_count": 6,
      "outputs": [
        {
          "output_type": "display_data",
          "data": {
            "text/html": [
              "2.69979423084221"
            ],
            "text/markdown": "2.69979423084221",
            "text/latex": "2.69979423084221",
            "text/plain": [
              "[1] 2.699794"
            ]
          },
          "metadata": {}
        }
      ]
    },
    {
      "cell_type": "code",
      "source": [
        "n <- length(birds$Woodpeckers)"
      ],
      "metadata": {
        "id": "NfRnpTMVv4Se"
      },
      "execution_count": 7,
      "outputs": []
    },
    {
      "cell_type": "code",
      "source": [
        "SE_woodpeckers = sd(birds$Woodpeckers)/n"
      ],
      "metadata": {
        "id": "RaLsyGQmwcrX"
      },
      "execution_count": 8,
      "outputs": []
    },
    {
      "cell_type": "code",
      "source": [
        "mean(birds$Woodpeckers)"
      ],
      "metadata": {
        "colab": {
          "base_uri": "https://localhost:8080/",
          "height": 34
        },
        "id": "cOgqOUlSwuQ6",
        "outputId": "67d4990d-3c53-4205-fe94-1a6c8b7e30ae"
      },
      "execution_count": 9,
      "outputs": [
        {
          "output_type": "display_data",
          "data": {
            "text/html": [
              "4.8"
            ],
            "text/markdown": "4.8",
            "text/latex": "4.8",
            "text/plain": [
              "[1] 4.8"
            ]
          },
          "metadata": {}
        }
      ]
    },
    {
      "cell_type": "code",
      "source": [
        "birds <- mutate(birds, totalBirds = Woodpeckers + BlueJays)\n",
        "# adds a column totalling the two groups of birds\n",
        "# note that we rename to \"save\" this new version"
      ],
      "metadata": {
        "id": "KDy3Yvzo0H7M"
      },
      "execution_count": 13,
      "outputs": []
    },
    {
      "cell_type": "code",
      "source": [
        "birds"
      ],
      "metadata": {
        "colab": {
          "base_uri": "https://localhost:8080/",
          "height": 412
        },
        "id": "cD_LPnB-0rFl",
        "outputId": "aa82d165-aa11-4296-e769-5caae3513645"
      },
      "execution_count": 14,
      "outputs": [
        {
          "output_type": "display_data",
          "data": {
            "text/html": [
              "<table class=\"dataframe\">\n",
              "<caption>A data.frame: 10 × 5</caption>\n",
              "<thead>\n",
              "\t<tr><th scope=col>Day</th><th scope=col>Time</th><th scope=col>Woodpeckers</th><th scope=col>BlueJays</th><th scope=col>totalBirds</th></tr>\n",
              "\t<tr><th scope=col>&lt;int&gt;</th><th scope=col>&lt;chr&gt;</th><th scope=col>&lt;int&gt;</th><th scope=col>&lt;int&gt;</th><th scope=col>&lt;int&gt;</th></tr>\n",
              "</thead>\n",
              "<tbody>\n",
              "\t<tr><td>1</td><td>morning  </td><td>6</td><td>2</td><td> 8</td></tr>\n",
              "\t<tr><td>1</td><td>afternoon</td><td>3</td><td>2</td><td> 5</td></tr>\n",
              "\t<tr><td>2</td><td>morning  </td><td>8</td><td>4</td><td>12</td></tr>\n",
              "\t<tr><td>2</td><td>afternoon</td><td>5</td><td>6</td><td>11</td></tr>\n",
              "\t<tr><td>3</td><td>morning  </td><td>2</td><td>3</td><td> 5</td></tr>\n",
              "\t<tr><td>3</td><td>afternoon</td><td>0</td><td>7</td><td> 7</td></tr>\n",
              "\t<tr><td>4</td><td>morning  </td><td>4</td><td>2</td><td> 6</td></tr>\n",
              "\t<tr><td>4</td><td>afternoon</td><td>6</td><td>8</td><td>14</td></tr>\n",
              "\t<tr><td>5</td><td>morning  </td><td>9</td><td>1</td><td>10</td></tr>\n",
              "\t<tr><td>5</td><td>afternoon</td><td>5</td><td>2</td><td> 7</td></tr>\n",
              "</tbody>\n",
              "</table>\n"
            ],
            "text/markdown": "\nA data.frame: 10 × 5\n\n| Day &lt;int&gt; | Time &lt;chr&gt; | Woodpeckers &lt;int&gt; | BlueJays &lt;int&gt; | totalBirds &lt;int&gt; |\n|---|---|---|---|---|\n| 1 | morning   | 6 | 2 |  8 |\n| 1 | afternoon | 3 | 2 |  5 |\n| 2 | morning   | 8 | 4 | 12 |\n| 2 | afternoon | 5 | 6 | 11 |\n| 3 | morning   | 2 | 3 |  5 |\n| 3 | afternoon | 0 | 7 |  7 |\n| 4 | morning   | 4 | 2 |  6 |\n| 4 | afternoon | 6 | 8 | 14 |\n| 5 | morning   | 9 | 1 | 10 |\n| 5 | afternoon | 5 | 2 |  7 |\n\n",
            "text/latex": "A data.frame: 10 × 5\n\\begin{tabular}{lllll}\n Day & Time & Woodpeckers & BlueJays & totalBirds\\\\\n <int> & <chr> & <int> & <int> & <int>\\\\\n\\hline\n\t 1 & morning   & 6 & 2 &  8\\\\\n\t 1 & afternoon & 3 & 2 &  5\\\\\n\t 2 & morning   & 8 & 4 & 12\\\\\n\t 2 & afternoon & 5 & 6 & 11\\\\\n\t 3 & morning   & 2 & 3 &  5\\\\\n\t 3 & afternoon & 0 & 7 &  7\\\\\n\t 4 & morning   & 4 & 2 &  6\\\\\n\t 4 & afternoon & 6 & 8 & 14\\\\\n\t 5 & morning   & 9 & 1 & 10\\\\\n\t 5 & afternoon & 5 & 2 &  7\\\\\n\\end{tabular}\n",
            "text/plain": [
              "   Day Time      Woodpeckers BlueJays totalBirds\n",
              "1  1   morning   6           2         8        \n",
              "2  1   afternoon 3           2         5        \n",
              "3  2   morning   8           4        12        \n",
              "4  2   afternoon 5           6        11        \n",
              "5  3   morning   2           3         5        \n",
              "6  3   afternoon 0           7         7        \n",
              "7  4   morning   4           2         6        \n",
              "8  4   afternoon 6           8        14        \n",
              "9  5   morning   9           1        10        \n",
              "10 5   afternoon 5           2         7        "
            ]
          },
          "metadata": {}
        }
      ]
    },
    {
      "cell_type": "code",
      "source": [
        "summarise(\n",
        "  group_by(birds, Time),\n",
        "  aveBirds = mean(totalBirds)\n",
        ")\n",
        "# Note that time is showing values in alphabetical order so afternoon shows up first."
      ],
      "metadata": {
        "colab": {
          "base_uri": "https://localhost:8080/",
          "height": 161
        },
        "id": "T8SHccqczudw",
        "outputId": "58e7b9c8-5678-4318-d74a-54aec9a868e0"
      },
      "execution_count": 15,
      "outputs": [
        {
          "output_type": "display_data",
          "data": {
            "text/html": [
              "<table class=\"dataframe\">\n",
              "<caption>A tibble: 2 × 2</caption>\n",
              "<thead>\n",
              "\t<tr><th scope=col>Time</th><th scope=col>aveBirds</th></tr>\n",
              "\t<tr><th scope=col>&lt;chr&gt;</th><th scope=col>&lt;dbl&gt;</th></tr>\n",
              "</thead>\n",
              "<tbody>\n",
              "\t<tr><td>afternoon</td><td>8.8</td></tr>\n",
              "\t<tr><td>morning  </td><td>8.2</td></tr>\n",
              "</tbody>\n",
              "</table>\n"
            ],
            "text/markdown": "\nA tibble: 2 × 2\n\n| Time &lt;chr&gt; | aveBirds &lt;dbl&gt; |\n|---|---|\n| afternoon | 8.8 |\n| morning   | 8.2 |\n\n",
            "text/latex": "A tibble: 2 × 2\n\\begin{tabular}{ll}\n Time & aveBirds\\\\\n <chr> & <dbl>\\\\\n\\hline\n\t afternoon & 8.8\\\\\n\t morning   & 8.2\\\\\n\\end{tabular}\n",
            "text/plain": [
              "  Time      aveBirds\n",
              "1 afternoon 8.8     \n",
              "2 morning   8.2     "
            ]
          },
          "metadata": {}
        }
      ]
    }
  ]
}