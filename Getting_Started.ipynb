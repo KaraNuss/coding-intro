{
  "nbformat": 4,
  "nbformat_minor": 0,
  "metadata": {
    "colab": {
      "provenance": [],
      "authorship_tag": "ABX9TyNIfCm/A0M3P8CP15vxaLeg",
      "include_colab_link": true
    },
    "kernelspec": {
      "name": "ir",
      "display_name": "R"
    },
    "language_info": {
      "name": "R"
    }
  },
  "cells": [
    {
      "cell_type": "markdown",
      "metadata": {
        "id": "view-in-github",
        "colab_type": "text"
      },
      "source": [
        "<a href=\"https://colab.research.google.com/github/KaraNuss/coding-intro/blob/main/Getting_Started.ipynb\" target=\"_parent\"><img src=\"https://colab.research.google.com/assets/colab-badge.svg\" alt=\"Open In Colab\"/></a>"
      ]
    },
    {
      "cell_type": "markdown",
      "source": [
        "## Part 1: First Steps"
      ],
      "metadata": {
        "id": "cqgAfA-Sto4V"
      }
    },
    {
      "cell_type": "markdown",
      "source": [
        "We will use the Google Colab Notebooks to start explore how we can use computer coding to analyze data. We will work with the programming language R, which is used extensively by biologists for statistics and data visualizations.\n",
        "\n",
        "Any notebook I share will already be set up for R. If you create your own notebook, you must change this manually. To do so, go to the **Runtime** menu at the top of this screen, select **Change runtime type** and use the dropdown menu to switch from Python 3 to **R**."
      ],
      "metadata": {
        "id": "F5oLXpX_Uno0"
      }
    },
    {
      "cell_type": "markdown",
      "source": [
        "The cell below makes available all of the packages we need. **Run** the cell by clicking the **Play arrow** or by holding down **Control/Enter (PC)** or **Command/Enter(Mac)**.\n",
        "\n",
        "You may get a warning that the Notebook was not authored by Google but by another user (someone with an neiu.edu email address). Click **Run anyway** to continue."
      ],
      "metadata": {
        "id": "Ofd87en9T2sc"
      }
    },
    {
      "cell_type": "code",
      "execution_count": 1,
      "metadata": {
        "id": "OBVlKrC_TsAJ",
        "colab": {
          "base_uri": "https://localhost:8080/"
        },
        "outputId": "00f85b42-0ce7-4b92-ce6e-64925f9be907"
      },
      "outputs": [
        {
          "output_type": "stream",
          "name": "stderr",
          "text": [
            "── \u001b[1mAttaching core tidyverse packages\u001b[22m ──────────────────────── tidyverse 2.0.0 ──\n",
            "\u001b[32m✔\u001b[39m \u001b[34mdplyr    \u001b[39m 1.1.4     \u001b[32m✔\u001b[39m \u001b[34mreadr    \u001b[39m 2.1.5\n",
            "\u001b[32m✔\u001b[39m \u001b[34mforcats  \u001b[39m 1.0.0     \u001b[32m✔\u001b[39m \u001b[34mstringr  \u001b[39m 1.5.1\n",
            "\u001b[32m✔\u001b[39m \u001b[34mggplot2  \u001b[39m 3.5.1     \u001b[32m✔\u001b[39m \u001b[34mtibble   \u001b[39m 3.2.1\n",
            "\u001b[32m✔\u001b[39m \u001b[34mlubridate\u001b[39m 1.9.4     \u001b[32m✔\u001b[39m \u001b[34mtidyr    \u001b[39m 1.3.1\n",
            "\u001b[32m✔\u001b[39m \u001b[34mpurrr    \u001b[39m 1.0.2     \n",
            "── \u001b[1mConflicts\u001b[22m ────────────────────────────────────────── tidyverse_conflicts() ──\n",
            "\u001b[31m✖\u001b[39m \u001b[34mdplyr\u001b[39m::\u001b[32mfilter()\u001b[39m masks \u001b[34mstats\u001b[39m::filter()\n",
            "\u001b[31m✖\u001b[39m \u001b[34mdplyr\u001b[39m::\u001b[32mlag()\u001b[39m    masks \u001b[34mstats\u001b[39m::lag()\n",
            "\u001b[36mℹ\u001b[39m Use the conflicted package (\u001b[3m\u001b[34m<http://conflicted.r-lib.org/>\u001b[39m\u001b[23m) to force all conflicts to become errors\n"
          ]
        }
      ],
      "source": [
        "library(tidyverse)"
      ]
    },
    {
      "cell_type": "markdown",
      "source": [
        "We want to import some data that we can begin to analyze. The code below will access a data file I posted to a website. Soon, you will learn how to upload your own data files from Excel. Note that you won't see any **output** once the cell has run."
      ],
      "metadata": {
        "id": "7T-cXUUfVJM8"
      }
    },
    {
      "cell_type": "code",
      "source": [
        "birds <- read.csv(url(\"https://raw.githubusercontent.com/KaraNuss/coding-intro/refs/heads/main/bird_observations.csv\"))"
      ],
      "metadata": {
        "id": "Zit6mcHQreu1"
      },
      "execution_count": 2,
      "outputs": []
    },
    {
      "cell_type": "markdown",
      "source": [
        "In the cell above, we brought in our dataset and saved it under the name birds. You can now create a new cell for Code, by clicking on **+ Code** at the top right. Type birds (make sure not to capitalize) and **run** the cell to see our dataset."
      ],
      "metadata": {
        "id": "2tBfyXlmWRB2"
      }
    },
    {
      "cell_type": "code",
      "source": [
        "# Make sure to cut out this  line in the student version.\n",
        "birds"
      ],
      "metadata": {
        "id": "KahTamPOaSxl",
        "colab": {
          "base_uri": "https://localhost:8080/",
          "height": 412
        },
        "outputId": "ffd4eb8f-0fd0-44c3-ccaa-c30b4ddb0744"
      },
      "execution_count": 3,
      "outputs": [
        {
          "output_type": "display_data",
          "data": {
            "text/html": [
              "<table class=\"dataframe\">\n",
              "<caption>A data.frame: 10 × 4</caption>\n",
              "<thead>\n",
              "\t<tr><th scope=col>Day</th><th scope=col>Time</th><th scope=col>Woodpeckers</th><th scope=col>BlueJays</th></tr>\n",
              "\t<tr><th scope=col>&lt;int&gt;</th><th scope=col>&lt;chr&gt;</th><th scope=col>&lt;int&gt;</th><th scope=col>&lt;int&gt;</th></tr>\n",
              "</thead>\n",
              "<tbody>\n",
              "\t<tr><td>1</td><td>morning  </td><td>6</td><td>2</td></tr>\n",
              "\t<tr><td>1</td><td>afternoon</td><td>3</td><td>2</td></tr>\n",
              "\t<tr><td>2</td><td>morning  </td><td>8</td><td>4</td></tr>\n",
              "\t<tr><td>2</td><td>afternoon</td><td>5</td><td>6</td></tr>\n",
              "\t<tr><td>3</td><td>morning  </td><td>2</td><td>3</td></tr>\n",
              "\t<tr><td>3</td><td>afternoon</td><td>0</td><td>7</td></tr>\n",
              "\t<tr><td>4</td><td>morning  </td><td>4</td><td>2</td></tr>\n",
              "\t<tr><td>4</td><td>afternoon</td><td>6</td><td>8</td></tr>\n",
              "\t<tr><td>5</td><td>morning  </td><td>9</td><td>1</td></tr>\n",
              "\t<tr><td>5</td><td>afternoon</td><td>5</td><td>2</td></tr>\n",
              "</tbody>\n",
              "</table>\n"
            ],
            "text/markdown": "\nA data.frame: 10 × 4\n\n| Day &lt;int&gt; | Time &lt;chr&gt; | Woodpeckers &lt;int&gt; | BlueJays &lt;int&gt; |\n|---|---|---|---|\n| 1 | morning   | 6 | 2 |\n| 1 | afternoon | 3 | 2 |\n| 2 | morning   | 8 | 4 |\n| 2 | afternoon | 5 | 6 |\n| 3 | morning   | 2 | 3 |\n| 3 | afternoon | 0 | 7 |\n| 4 | morning   | 4 | 2 |\n| 4 | afternoon | 6 | 8 |\n| 5 | morning   | 9 | 1 |\n| 5 | afternoon | 5 | 2 |\n\n",
            "text/latex": "A data.frame: 10 × 4\n\\begin{tabular}{llll}\n Day & Time & Woodpeckers & BlueJays\\\\\n <int> & <chr> & <int> & <int>\\\\\n\\hline\n\t 1 & morning   & 6 & 2\\\\\n\t 1 & afternoon & 3 & 2\\\\\n\t 2 & morning   & 8 & 4\\\\\n\t 2 & afternoon & 5 & 6\\\\\n\t 3 & morning   & 2 & 3\\\\\n\t 3 & afternoon & 0 & 7\\\\\n\t 4 & morning   & 4 & 2\\\\\n\t 4 & afternoon & 6 & 8\\\\\n\t 5 & morning   & 9 & 1\\\\\n\t 5 & afternoon & 5 & 2\\\\\n\\end{tabular}\n",
            "text/plain": [
              "   Day Time      Woodpeckers BlueJays\n",
              "1  1   morning   6           2       \n",
              "2  1   afternoon 3           2       \n",
              "3  2   morning   8           4       \n",
              "4  2   afternoon 5           6       \n",
              "5  3   morning   2           3       \n",
              "6  3   afternoon 0           7       \n",
              "7  4   morning   4           2       \n",
              "8  4   afternoon 6           8       \n",
              "9  5   morning   9           1       \n",
              "10 5   afternoon 5           2       "
            ]
          },
          "metadata": {}
        }
      ]
    },
    {
      "cell_type": "markdown",
      "source": [
        "Wow, that's cool! This example dataset is pretty simple and small. Often we will have large and complex datasets where we can'st see everything at once. Luckily, there are some great tools to give us an overview of our data."
      ],
      "metadata": {
        "id": "wrA-mPMXW_xX"
      }
    },
    {
      "cell_type": "code",
      "source": [
        "glimpse(birds)"
      ],
      "metadata": {
        "id": "AzaQTY1sWu9H",
        "colab": {
          "base_uri": "https://localhost:8080/"
        },
        "outputId": "a05b715e-9452-4f79-d344-a0fdc85d4cf7"
      },
      "execution_count": 4,
      "outputs": [
        {
          "output_type": "stream",
          "name": "stdout",
          "text": [
            "Rows: 10\n",
            "Columns: 4\n",
            "$ Day         \u001b[3m\u001b[90m<int>\u001b[39m\u001b[23m 1, 1, 2, 2, 3, 3, 4, 4, 5, 5\n",
            "$ Time        \u001b[3m\u001b[90m<chr>\u001b[39m\u001b[23m \"morning\", \"afternoon\", \"morning\", \"afternoon\", \"morning\",…\n",
            "$ Woodpeckers \u001b[3m\u001b[90m<int>\u001b[39m\u001b[23m 6, 3, 8, 5, 2, 0, 4, 6, 9, 5\n",
            "$ BlueJays    \u001b[3m\u001b[90m<int>\u001b[39m\u001b[23m 2, 2, 4, 6, 3, 7, 2, 8, 1, 2\n"
          ]
        }
      ]
    },
    {
      "cell_type": "markdown",
      "source": [
        "# Question 1\n",
        "Run the cell above and then describe what **glimpse** does. What information does it give us? (2 points)\n",
        "\n",
        "*Replace this text with your answer.*\n",
        "\n",
        "\n"
      ],
      "metadata": {
        "id": "lfeKjzWGsSIh"
      }
    },
    {
      "cell_type": "markdown",
      "source": [
        "## Part 2: Descriptive Statistics"
      ],
      "metadata": {
        "id": "1zfemw3It8aK"
      }
    },
    {
      "cell_type": "code",
      "source": [
        "summary(birds)"
      ],
      "metadata": {
        "id": "hgck55iMueZ7",
        "colab": {
          "base_uri": "https://localhost:8080/",
          "height": 139
        },
        "outputId": "7dee3e9f-0bfa-4e9e-d031-da678ef424d6"
      },
      "execution_count": 5,
      "outputs": [
        {
          "output_type": "display_data",
          "data": {
            "text/plain": [
              "      Day        Time            Woodpeckers      BlueJays  \n",
              " Min.   :1   Length:10          Min.   :0.00   Min.   :1.0  \n",
              " 1st Qu.:2   Class :character   1st Qu.:3.25   1st Qu.:2.0  \n",
              " Median :3   Mode  :character   Median :5.00   Median :2.5  \n",
              " Mean   :3                      Mean   :4.80   Mean   :3.7  \n",
              " 3rd Qu.:4                      3rd Qu.:6.00   3rd Qu.:5.5  \n",
              " Max.   :5                      Max.   :9.00   Max.   :8.0  "
            ]
          },
          "metadata": {}
        }
      ]
    },
    {
      "cell_type": "code",
      "source": [
        "sd(birds$Woodpeckers)"
      ],
      "metadata": {
        "id": "skiU7dxsvQ-u",
        "colab": {
          "base_uri": "https://localhost:8080/",
          "height": 34
        },
        "outputId": "5427d7bf-8de3-4636-d0d5-ca5b62cf5d88"
      },
      "execution_count": 6,
      "outputs": [
        {
          "output_type": "display_data",
          "data": {
            "text/html": [
              "2.69979423084221"
            ],
            "text/markdown": "2.69979423084221",
            "text/latex": "2.69979423084221",
            "text/plain": [
              "[1] 2.699794"
            ]
          },
          "metadata": {}
        }
      ]
    },
    {
      "cell_type": "code",
      "source": [
        "n <- length(birds$Woodpeckers)"
      ],
      "metadata": {
        "id": "NfRnpTMVv4Se"
      },
      "execution_count": 7,
      "outputs": []
    },
    {
      "cell_type": "code",
      "source": [
        "SE_woodpeckers = sd(birds$Woodpeckers)/n"
      ],
      "metadata": {
        "id": "RaLsyGQmwcrX"
      },
      "execution_count": 8,
      "outputs": []
    },
    {
      "cell_type": "code",
      "source": [
        "mean(birds$Woodpeckers)"
      ],
      "metadata": {
        "id": "cOgqOUlSwuQ6",
        "colab": {
          "base_uri": "https://localhost:8080/",
          "height": 34
        },
        "outputId": "ca65c436-cf67-49e0-fc7b-d600c96d06ab"
      },
      "execution_count": 9,
      "outputs": [
        {
          "output_type": "display_data",
          "data": {
            "text/html": [
              "4.8"
            ],
            "text/markdown": "4.8",
            "text/latex": "4.8",
            "text/plain": [
              "[1] 4.8"
            ]
          },
          "metadata": {}
        }
      ]
    },
    {
      "cell_type": "code",
      "source": [
        "birds <- mutate(birds, totalBirds = Woodpeckers + BlueJays)\n",
        "# adds a column totalling the two groups of birds\n",
        "# note that we rename to \"save\" this new version"
      ],
      "metadata": {
        "id": "KDy3Yvzo0H7M"
      },
      "execution_count": 10,
      "outputs": []
    },
    {
      "cell_type": "code",
      "source": [
        "birds"
      ],
      "metadata": {
        "id": "cD_LPnB-0rFl",
        "colab": {
          "base_uri": "https://localhost:8080/",
          "height": 412
        },
        "outputId": "acafc58d-f7e9-4219-8b9a-92e163475492"
      },
      "execution_count": 11,
      "outputs": [
        {
          "output_type": "display_data",
          "data": {
            "text/html": [
              "<table class=\"dataframe\">\n",
              "<caption>A data.frame: 10 × 5</caption>\n",
              "<thead>\n",
              "\t<tr><th scope=col>Day</th><th scope=col>Time</th><th scope=col>Woodpeckers</th><th scope=col>BlueJays</th><th scope=col>totalBirds</th></tr>\n",
              "\t<tr><th scope=col>&lt;int&gt;</th><th scope=col>&lt;chr&gt;</th><th scope=col>&lt;int&gt;</th><th scope=col>&lt;int&gt;</th><th scope=col>&lt;int&gt;</th></tr>\n",
              "</thead>\n",
              "<tbody>\n",
              "\t<tr><td>1</td><td>morning  </td><td>6</td><td>2</td><td> 8</td></tr>\n",
              "\t<tr><td>1</td><td>afternoon</td><td>3</td><td>2</td><td> 5</td></tr>\n",
              "\t<tr><td>2</td><td>morning  </td><td>8</td><td>4</td><td>12</td></tr>\n",
              "\t<tr><td>2</td><td>afternoon</td><td>5</td><td>6</td><td>11</td></tr>\n",
              "\t<tr><td>3</td><td>morning  </td><td>2</td><td>3</td><td> 5</td></tr>\n",
              "\t<tr><td>3</td><td>afternoon</td><td>0</td><td>7</td><td> 7</td></tr>\n",
              "\t<tr><td>4</td><td>morning  </td><td>4</td><td>2</td><td> 6</td></tr>\n",
              "\t<tr><td>4</td><td>afternoon</td><td>6</td><td>8</td><td>14</td></tr>\n",
              "\t<tr><td>5</td><td>morning  </td><td>9</td><td>1</td><td>10</td></tr>\n",
              "\t<tr><td>5</td><td>afternoon</td><td>5</td><td>2</td><td> 7</td></tr>\n",
              "</tbody>\n",
              "</table>\n"
            ],
            "text/markdown": "\nA data.frame: 10 × 5\n\n| Day &lt;int&gt; | Time &lt;chr&gt; | Woodpeckers &lt;int&gt; | BlueJays &lt;int&gt; | totalBirds &lt;int&gt; |\n|---|---|---|---|---|\n| 1 | morning   | 6 | 2 |  8 |\n| 1 | afternoon | 3 | 2 |  5 |\n| 2 | morning   | 8 | 4 | 12 |\n| 2 | afternoon | 5 | 6 | 11 |\n| 3 | morning   | 2 | 3 |  5 |\n| 3 | afternoon | 0 | 7 |  7 |\n| 4 | morning   | 4 | 2 |  6 |\n| 4 | afternoon | 6 | 8 | 14 |\n| 5 | morning   | 9 | 1 | 10 |\n| 5 | afternoon | 5 | 2 |  7 |\n\n",
            "text/latex": "A data.frame: 10 × 5\n\\begin{tabular}{lllll}\n Day & Time & Woodpeckers & BlueJays & totalBirds\\\\\n <int> & <chr> & <int> & <int> & <int>\\\\\n\\hline\n\t 1 & morning   & 6 & 2 &  8\\\\\n\t 1 & afternoon & 3 & 2 &  5\\\\\n\t 2 & morning   & 8 & 4 & 12\\\\\n\t 2 & afternoon & 5 & 6 & 11\\\\\n\t 3 & morning   & 2 & 3 &  5\\\\\n\t 3 & afternoon & 0 & 7 &  7\\\\\n\t 4 & morning   & 4 & 2 &  6\\\\\n\t 4 & afternoon & 6 & 8 & 14\\\\\n\t 5 & morning   & 9 & 1 & 10\\\\\n\t 5 & afternoon & 5 & 2 &  7\\\\\n\\end{tabular}\n",
            "text/plain": [
              "   Day Time      Woodpeckers BlueJays totalBirds\n",
              "1  1   morning   6           2         8        \n",
              "2  1   afternoon 3           2         5        \n",
              "3  2   morning   8           4        12        \n",
              "4  2   afternoon 5           6        11        \n",
              "5  3   morning   2           3         5        \n",
              "6  3   afternoon 0           7         7        \n",
              "7  4   morning   4           2         6        \n",
              "8  4   afternoon 6           8        14        \n",
              "9  5   morning   9           1        10        \n",
              "10 5   afternoon 5           2         7        "
            ]
          },
          "metadata": {}
        }
      ]
    },
    {
      "cell_type": "code",
      "source": [
        "summarise(\n",
        "  group_by(birds, Time),\n",
        "  aveBirds = mean(totalBirds)\n",
        ")i\n",
        "# Note that time is showing values in alphabetical order so afternoon shows up first."
      ],
      "metadata": {
        "id": "T8SHccqczudw",
        "colab": {
          "base_uri": "https://localhost:8080/",
          "height": 161
        },
        "outputId": "31d446cb-806b-4da5-d107-f8e400bcd548"
      },
      "execution_count": 12,
      "outputs": [
        {
          "output_type": "display_data",
          "data": {
            "text/html": [
              "<table class=\"dataframe\">\n",
              "<caption>A tibble: 2 × 2</caption>\n",
              "<thead>\n",
              "\t<tr><th scope=col>Time</th><th scope=col>aveBirds</th></tr>\n",
              "\t<tr><th scope=col>&lt;chr&gt;</th><th scope=col>&lt;dbl&gt;</th></tr>\n",
              "</thead>\n",
              "<tbody>\n",
              "\t<tr><td>afternoon</td><td>8.8</td></tr>\n",
              "\t<tr><td>morning  </td><td>8.2</td></tr>\n",
              "</tbody>\n",
              "</table>\n"
            ],
            "text/markdown": "\nA tibble: 2 × 2\n\n| Time &lt;chr&gt; | aveBirds &lt;dbl&gt; |\n|---|---|\n| afternoon | 8.8 |\n| morning   | 8.2 |\n\n",
            "text/latex": "A tibble: 2 × 2\n\\begin{tabular}{ll}\n Time & aveBirds\\\\\n <chr> & <dbl>\\\\\n\\hline\n\t afternoon & 8.8\\\\\n\t morning   & 8.2\\\\\n\\end{tabular}\n",
            "text/plain": [
              "  Time      aveBirds\n",
              "1 afternoon 8.8     \n",
              "2 morning   8.2     "
            ]
          },
          "metadata": {}
        }
      ]
    },
    {
      "cell_type": "code",
      "source": [
        "SE_woodpeckers"
      ],
      "metadata": {
        "colab": {
          "base_uri": "https://localhost:8080/",
          "height": 34
        },
        "id": "KpXgl7NaU7nL",
        "outputId": "ae58ecd4-55b4-44b9-9ea9-2c0b168ce3b6"
      },
      "execution_count": 13,
      "outputs": [
        {
          "output_type": "display_data",
          "data": {
            "text/html": [
              "0.269979423084221"
            ],
            "text/markdown": "0.269979423084221",
            "text/latex": "0.269979423084221",
            "text/plain": [
              "[1] 0.2699794"
            ]
          },
          "metadata": {}
        }
      ]
    },
    {
      "cell_type": "code",
      "source": [
        "birds %>%\n",
        "  group_by (Time) %>%\n",
        "    summarise(\n",
        "      meanBirds = mean(totalBirds),\n",
        "      sdBirds = sd(totalBirds),\n",
        "      seBirds = sd(totalBirds)/n\n",
        "\n",
        "  )"
      ],
      "metadata": {
        "colab": {
          "base_uri": "https://localhost:8080/",
          "height": 161
        },
        "id": "1vEP7LMAVKUD",
        "outputId": "182eed6c-d9cc-4fef-f7d0-6932fb59b26a"
      },
      "execution_count": 17,
      "outputs": [
        {
          "output_type": "display_data",
          "data": {
            "text/html": [
              "<table class=\"dataframe\">\n",
              "<caption>A tibble: 2 × 4</caption>\n",
              "<thead>\n",
              "\t<tr><th scope=col>Time</th><th scope=col>meanBirds</th><th scope=col>sdBirds</th><th scope=col>seBirds</th></tr>\n",
              "\t<tr><th scope=col>&lt;chr&gt;</th><th scope=col>&lt;dbl&gt;</th><th scope=col>&lt;dbl&gt;</th><th scope=col>&lt;dbl&gt;</th></tr>\n",
              "</thead>\n",
              "<tbody>\n",
              "\t<tr><td>afternoon</td><td>8.8</td><td>3.633180</td><td>0.3633180</td></tr>\n",
              "\t<tr><td>morning  </td><td>8.2</td><td>2.863564</td><td>0.2863564</td></tr>\n",
              "</tbody>\n",
              "</table>\n"
            ],
            "text/markdown": "\nA tibble: 2 × 4\n\n| Time &lt;chr&gt; | meanBirds &lt;dbl&gt; | sdBirds &lt;dbl&gt; | seBirds &lt;dbl&gt; |\n|---|---|---|---|\n| afternoon | 8.8 | 3.633180 | 0.3633180 |\n| morning   | 8.2 | 2.863564 | 0.2863564 |\n\n",
            "text/latex": "A tibble: 2 × 4\n\\begin{tabular}{llll}\n Time & meanBirds & sdBirds & seBirds\\\\\n <chr> & <dbl> & <dbl> & <dbl>\\\\\n\\hline\n\t afternoon & 8.8 & 3.633180 & 0.3633180\\\\\n\t morning   & 8.2 & 2.863564 & 0.2863564\\\\\n\\end{tabular}\n",
            "text/plain": [
              "  Time      meanBirds sdBirds  seBirds  \n",
              "1 afternoon 8.8       3.633180 0.3633180\n",
              "2 morning   8.2       2.863564 0.2863564"
            ]
          },
          "metadata": {}
        }
      ]
    },
    {
      "cell_type": "code",
      "source": [
        "ggplot(birds, aes(x = Woodpeckers, y = BlueJays)) +\n",
        "  geom_point()\n",
        "# tweak data so there is a positive association - more of one species, also more of the other"
      ],
      "metadata": {
        "colab": {
          "base_uri": "https://localhost:8080/",
          "height": 437
        },
        "id": "1IUgtbuVVKcp",
        "outputId": "98932968-dbf0-488e-e037-7f547656f2c7"
      },
      "execution_count": 18,
      "outputs": [
        {
          "output_type": "display_data",
          "data": {
            "text/plain": [
              "plot without title"
            ],
            "image/png": "[encoded data removed]"
          },
          "metadata": {
            "image/png": {
              "width": 420,
              "height": 420
            }
          }
        }
      ]
    },
    {
      "cell_type": "code",
      "source": [
        "ggplot(birds, aes(x = Woodpeckers, y = BlueJays)) +\n",
        "  geom_point() +\n",
        "  theme_bw() +\n",
        "  xlab (\"Woodpeckers sighted\") +\n",
        "  ylab (\"Blue Jays signted\")\n",
        "# Same as before but gets rid of gray background and adds better labels"
      ],
      "metadata": {
        "colab": {
          "base_uri": "https://localhost:8080/",
          "height": 437
        },
        "id": "cOTjKyCZVKjr",
        "outputId": "de9f8ae4-0b0c-48e9-f6f6-1bbd20d87b7c"
      },
      "execution_count": 20,
      "outputs": [
        {
          "output_type": "display_data",
          "data": {
            "text/plain": [
              "plot without title"
            ],
            "image/png": "[encoded data removed]"
          },
          "metadata": {
            "image/png": {
              "width": 420,
              "height": 420
            }
          }
        }
      ]
    },
    {
      "cell_type": "code",
      "source": [
        "# and the really fun one, adding colors for groups; also making the points bigger\n",
        "ggplot(birds, aes(x = Woodpeckers, y = BlueJays, colour = Time)) +\n",
        "  geom_point(size = 5) +\n",
        "  theme_bw() +\n",
        "  xlab (\"Woodpeckers sighted\") +\n",
        "  ylab (\"Blue Jays signted\")\n"
      ],
      "metadata": {
        "colab": {
          "base_uri": "https://localhost:8080/",
          "height": 437
        },
        "id": "0H4XNgznX4pJ",
        "outputId": "09db54ef-944b-4ccd-b6a2-2abe7279cc78"
      },
      "execution_count": 22,
      "outputs": [
        {
          "output_type": "display_data",
          "data": {
            "text/plain": [
              "plot without title"
            ],
            "image/png": "[encoded data removed]"
          },
          "metadata": {
            "image/png": {
              "width": 420,
              "height": 420
            }
          }
        }
      ]
    },
    {
      "cell_type": "code",
      "source": [
        "# Here come the bar charts\n",
        "ggplot(birds, aes (x = Time, y = totalBirds)) +\n",
        "  geom_boxplot()"
      ],
      "metadata": {
        "colab": {
          "base_uri": "https://localhost:8080/",
          "height": 437
        },
        "id": "d_V-6j_AYbwh",
        "outputId": "139e6499-9801-45f2-bb07-1ffaab7c4914"
      },
      "execution_count": 24,
      "outputs": [
        {
          "output_type": "display_data",
          "data": {
            "text/plain": [
              "plot without title"
            ],
            "image/png": "[encoded data removed]"
          },
          "metadata": {
            "image/png": {
              "width": 420,
              "height": 420
            }
          }
        }
      ]
    },
    {
      "cell_type": "code",
      "source": [
        "ggplot(birds, aes (y = Woodpeckers)) +\n",
        "  geom_boxplot()\n",
        "# great for comparison but not sure my data are truly set up the way it wants so that I can compare the two species"
      ],
      "metadata": {
        "colab": {
          "base_uri": "https://localhost:8080/",
          "height": 437
        },
        "id": "t5wGQEa4Ybzl",
        "outputId": "40ec5e47-8dfb-4c65-d84c-2748444c3f44"
      },
      "execution_count": 25,
      "outputs": [
        {
          "output_type": "display_data",
          "data": {
            "text/plain": [
              "plot without title"
            ],
            "image/png": "[encoded data removed]"
          },
          "metadata": {
            "image/png": {
              "width": 420,
              "height": 420
            }
          }
        }
      ]
    },
    {
      "cell_type": "code",
      "source": [
        "# Tweaking the style\n",
        "ggplot(birds, aes (x = Time, y = totalBirds)) +\n",
        "  geom_boxplot() +\n",
        "  geom_point( size = 4, colour = 'lightgrey', alpha = 0.7) +\n",
        "  theme_bw() +\n",
        "  xlab(\"Time of Day\") +\n",
        "  ylab (\"Number of Birds\")"
      ],
      "metadata": {
        "colab": {
          "base_uri": "https://localhost:8080/",
          "height": 437
        },
        "id": "7enXuzeQYb2c",
        "outputId": "71505d97-fe8a-418c-ff75-429c62305ef5"
      },
      "execution_count": 30,
      "outputs": [
        {
          "output_type": "display_data",
          "data": {
            "text/plain": [
              "plot without title"
            ],
            "image/png": "[encoded data removed]"
          },
          "metadata": {
            "image/png": {
              "width": 420,
              "height": 420
            }
          }
        }
      ]
    },
    {
      "cell_type": "code",
      "source": [],
      "metadata": {
        "id": "AcLXrSp4Yb5D"
      },
      "execution_count": null,
      "outputs": []
    },
    {
      "cell_type": "code",
      "source": [],
      "metadata": {
        "id": "6GdZbGbWYb7t"
      },
      "execution_count": null,
      "outputs": []
    }
  ]
}